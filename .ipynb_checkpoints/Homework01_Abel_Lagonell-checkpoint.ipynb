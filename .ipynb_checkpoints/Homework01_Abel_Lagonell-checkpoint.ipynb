{
 "cells": [
  {
   "cell_type": "code",
   "execution_count": 13,
   "id": "56cc3c47-c517-49d7-99de-f7024dc02443",
   "metadata": {},
   "outputs": [],
   "source": [
    "#Imports\n",
    "import pandas as pd\n",
    "from sklearn import preprocessing as pp"
   ]
  },
  {
   "cell_type": "markdown",
   "id": "eef79ccf-fa57-482a-8564-784e8994bc2b",
   "metadata": {},
   "source": [
    "# Question 1: Discretization\n",
    "\n",
    "The categories:\n",
    "- Cold     :        x <  70\n",
    "- Warm     : 70  <= x <= 85\n",
    "- Hot      : 85  <  x <  100\n",
    "- Very Hot : 100 <= x"
   ]
  },
  {
   "cell_type": "code",
   "execution_count": 11,
   "id": "da793c29-bb68-493d-a4a3-6eb276762911",
   "metadata": {},
   "outputs": [
    {
     "name": "stdout",
     "output_type": "stream",
     "text": [
      "    data     label\n",
      "0     72      Warm\n",
      "1     85      Warm\n",
      "2     90       Hot\n",
      "3     77      Warm\n",
      "4     65      Cold\n",
      "5     80      Warm\n",
      "6     95       Hot\n",
      "7    102  Very Hot\n",
      "8     60      Cold\n",
      "9     68      Cold\n",
      "10    88       Hot\n",
      "11    73      Warm\n",
      "12    78      Warm\n",
      "13    69      Cold\n",
      "14    91       Hot\n",
      "15   -10      Cold\n",
      "16    -5      Cold\n",
      "17   -20      Cold\n"
     ]
    }
   ],
   "source": [
    "temperature = pd.DataFrame({ 'data' : [72, 85, 90, 77, 65, 80, 95, 102, 60, 68, 88, 73, 78, 69, 91, -10, -5, -20]})\n",
    "\n",
    "temperature['label'] = pd.cut(temperature.data, bins=[-float('inf'),70,85,100,float('inf')], labels=[\"Cold\", \"Warm\", \"Hot\", \"Very Hot\"])\n",
    "\n",
    "print(temperature)"
   ]
  },
  {
   "cell_type": "markdown",
   "id": "979430bd-e105-4b2f-b01a-2ef626f5f6cb",
   "metadata": {},
   "source": [
    "The code reflects the categories as everything is correctly categorized, with the bins being (-inf,70], (70,85],  (85,100], and (100, inf). With these bins nothing had to be changed to reflect the dataset given with the categories given."
   ]
  },
  {
   "cell_type": "markdown",
   "id": "3d7dd20b-ba64-411c-b0a5-5970f1c5ccb3",
   "metadata": {},
   "source": [
    "# Question 2: Numeric Coding of Nominal/Ordinal Attributes\n",
    "\n",
    "## Task 2.A: One-Hot Encoding Using OneHotEncoder"
   ]
  },
  {
   "cell_type": "code",
   "execution_count": 27,
   "id": "604ef7dc-e61a-42f5-8ef1-a251b32d4e56",
   "metadata": {},
   "outputs": [
    {
     "name": "stdout",
     "output_type": "stream",
     "text": [
      "     data    0    1    2    3\n",
      "0  Toyota  0.0  0.0  0.0  1.0\n",
      "1    Ford  0.0  1.0  0.0  0.0\n",
      "2   Honda  0.0  0.0  1.0  0.0\n",
      "3  Toyota  0.0  0.0  0.0  1.0\n",
      "4     BMW  1.0  0.0  0.0  0.0\n",
      "5    Ford  0.0  1.0  0.0  0.0\n",
      "6   Honda  0.0  0.0  1.0  0.0\n"
     ]
    }
   ],
   "source": [
    "car_brands = pd.DataFrame({ 'data' : [\"Toyota\", \"Ford\", \"Honda\", \"Toyota\", \"BMW\", \"Ford\", \"Honda\"]})\n",
    "\n",
    "hot = pp.OneHotEncoder(handle_unknown='ignore')\n",
    "\n",
    "hot_brands = pd.DataFrame(hot.fit_transform(car_brands).toarray())\n",
    "\n",
    "final_brands = car_brands.join(enc_brands)\n",
    "\n",
    "print(final_brands)"
   ]
  },
  {
   "cell_type": "markdown",
   "id": "1fd72b90-6760-453c-8909-ec3623cfb121",
   "metadata": {},
   "source": [
    "The categories are as follows Toyota = 3, Honda = 2, Ford = 1, BMW= 0.  \n",
    "The columns right of the data are categorizing the data into one of the four categories.\n",
    "\n",
    "## Task 2.B Ordinal Encoding Using OrdinalEncoder"
   ]
  },
  {
   "cell_type": "code",
   "execution_count": 31,
   "id": "eb71fb90-60b9-4728-be9c-b981dadd0728",
   "metadata": {},
   "outputs": [
    {
     "name": "stdout",
     "output_type": "stream",
     "text": [
      "    Brand Size    0    1\n",
      "0  Toyota    M  3.0  1.0\n",
      "1    Ford    L  1.0  0.0\n",
      "2   Honda    S  2.0  2.0\n",
      "3  Toyota   XL  3.0  3.0\n",
      "4     BMW    M  0.0  1.0\n",
      "5    Ford    S  1.0  2.0\n",
      "6   Honda    L  2.0  0.0\n"
     ]
    }
   ],
   "source": [
    "brand_size = pd.DataFrame({\n",
    "    'Brand': [\"Toyota\", \"Ford\", \"Honda\", \"Toyota\", \"BMW\", \"Ford\", \"Honda\"],\n",
    "    'Size': [\"M\", \"L\", \"S\", \"XL\", \"M\", \"S\", \"L\"]\n",
    "})\n",
    "\n",
    "ordinal = pp.OrdinalEncoder()\n",
    "\n",
    "enc_brand_size = pd.DataFrame(ordinal.fit_transform(brand_size))\n",
    "\n",
    "final_brand_size = brand_size.join(enc_brand_size)\n",
    "\n",
    "print(final_brand_size)"
   ]
  },
  {
   "cell_type": "markdown",
   "id": "66880e26-2109-4430-af58-9cfd173da6e3",
   "metadata": {},
   "source": [
    "The way that numeric values are assigned are as follows\n",
    "| Numeric Value | Brand | Size |\n",
    "| ------------- | ----- | ---- |\n",
    "| 0             | BMW   | L    |\n",
    "| 1             | Ford  | M    |\n",
    "| 2             | Honda | S    |\n",
    "| 3             | Toyota| XL   |"
   ]
  },
  {
   "cell_type": "code",
   "execution_count": null,
   "id": "983a59e1-3156-4572-9507-016fcabe9f86",
   "metadata": {},
   "outputs": [],
   "source": []
  }
 ],
 "metadata": {
  "kernelspec": {
   "display_name": "Python 3 (ipykernel)",
   "language": "python",
   "name": "python3"
  },
  "language_info": {
   "codemirror_mode": {
    "name": "ipython",
    "version": 3
   },
   "file_extension": ".py",
   "mimetype": "text/x-python",
   "name": "python",
   "nbconvert_exporter": "python",
   "pygments_lexer": "ipython3",
   "version": "3.10.11"
  }
 },
 "nbformat": 4,
 "nbformat_minor": 5
}
