{
 "cells": [
  {
   "cell_type": "markdown",
   "id": "e18b79b9-c792-4ae7-a15a-287db22756aa",
   "metadata": {
    "jp-MarkdownHeadingCollapsed": true
   },
   "source": [
    "# Question 1: Discretization"
   ]
  },
  {
   "cell_type": "markdown",
   "id": "92a53381-d387-4e81-99e5-b27218246554",
   "metadata": {},
   "source": [
    "The categories:\n",
    "- Cold     :        x <  70\n",
    "- Warm     : 70  <= x <= 85\n",
    "- Hot      : 85  <  x <  100\n",
    "- Very Hot : 100 <= x"
   ]
  },
  {
   "cell_type": "code",
   "execution_count": 1,
   "id": "da793c29-bb68-493d-a4a3-6eb276762911",
   "metadata": {},
   "outputs": [
    {
     "name": "stdout",
     "output_type": "stream",
     "text": [
      "    data     label\n",
      "0     72      Warm\n",
      "1     85      Warm\n",
      "2     90       Hot\n",
      "3     77      Warm\n",
      "4     65      Cold\n",
      "5     80      Warm\n",
      "6     95       Hot\n",
      "7    102  Very Hot\n",
      "8     60      Cold\n",
      "9     68      Cold\n",
      "10    88       Hot\n",
      "11    73      Warm\n",
      "12    78      Warm\n",
      "13    69      Cold\n",
      "14    91       Hot\n",
      "15   -10      Cold\n",
      "16    -5      Cold\n",
      "17   -20      Cold\n"
     ]
    }
   ],
   "source": [
    "import pandas as pd\n",
    "\n",
    "temperature = pd.DataFrame({ 'data' : [72, 85, 90, 77, 65, 80, 95, 102, 60, 68, 88, 73, 78, 69, 91, -10, -5, -20]})\n",
    "\n",
    "temperature['label'] = pd.cut(temperature.data, bins=[-float('inf'),70,85,100,float('inf')], labels=[\"Cold\", \"Warm\", \"Hot\", \"Very Hot\"])\n",
    "\n",
    "print(temperature)"
   ]
  },
  {
   "cell_type": "markdown",
   "id": "e150b3ef-068e-45a4-afc4-91201862970f",
   "metadata": {},
   "source": [
    "The code reflects the categories as everything is correctly categorized, with the bins being (-inf,70], (70,85],  (85,100], and (100, inf). With these bins nothing had to be changed to reflect the dataset given with the categories given."
   ]
  },
  {
   "cell_type": "markdown",
   "id": "1220d209-91f7-4f12-9919-6ee5f281bb9f",
   "metadata": {
    "jp-MarkdownHeadingCollapsed": true
   },
   "source": [
    "# Question 2: Numeric Coding of Nominal/Ordinal Attributes"
   ]
  },
  {
   "cell_type": "markdown",
   "id": "f6ae36ef-1a45-48d7-b573-44df52ad9678",
   "metadata": {},
   "source": [
    "## Task 2.A: One-Hot Encoding Using OneHotEncoder"
   ]
  },
  {
   "cell_type": "code",
   "execution_count": 1,
   "id": "604ef7dc-e61a-42f5-8ef1-a251b32d4e56",
   "metadata": {},
   "outputs": [
    {
     "name": "stderr",
     "output_type": "stream",
     "text": [
      "C:\\Users\\alago\\AppData\\Local\\Temp\\ipykernel_10348\\321458631.py:1: DeprecationWarning: \n",
      "Pyarrow will become a required dependency of pandas in the next major release of pandas (pandas 3.0),\n",
      "(to allow more performant data types, such as the Arrow string type, and better interoperability with other libraries)\n",
      "but was not found to be installed on your system.\n",
      "If this would cause problems for you,\n",
      "please provide us feedback at https://github.com/pandas-dev/pandas/issues/54466\n",
      "        \n",
      "  import pandas as pd\n"
     ]
    },
    {
     "name": "stdout",
     "output_type": "stream",
     "text": [
      "     data    0    1    2    3\n",
      "0  Toyota  0.0  0.0  0.0  1.0\n",
      "1    Ford  0.0  1.0  0.0  0.0\n",
      "2   Honda  0.0  0.0  1.0  0.0\n",
      "3  Toyota  0.0  0.0  0.0  1.0\n",
      "4     BMW  1.0  0.0  0.0  0.0\n",
      "5    Ford  0.0  1.0  0.0  0.0\n",
      "6   Honda  0.0  0.0  1.0  0.0\n"
     ]
    }
   ],
   "source": [
    "import pandas as pd\n",
    "from sklearn import preprocessing as pp\n",
    "\n",
    "car_brands = pd.DataFrame({ 'data' : [\"Toyota\", \"Ford\", \"Honda\", \"Toyota\", \"BMW\", \"Ford\", \"Honda\"]})\n",
    "\n",
    "hot = pp.OneHotEncoder(handle_unknown='ignore')\n",
    "\n",
    "hot_brands = pd.DataFrame(hot.fit_transform(car_brands).toarray())\n",
    "\n",
    "final_brands = car_brands.join(hot_brands)\n",
    "\n",
    "print(final_brands)"
   ]
  },
  {
   "cell_type": "markdown",
   "id": "de960736-83b6-4700-af50-1b9bd6122c67",
   "metadata": {},
   "source": [
    "The categories are as follows Toyota = 3, Honda = 2, Ford = 1, BMW= 0.  \n",
    "The columns right of the data are categorizing the data into one of the four categories."
   ]
  },
  {
   "cell_type": "markdown",
   "id": "e8fc6efe-2881-45b9-a974-51de5a01b48e",
   "metadata": {},
   "source": [
    "## Task 2.B Ordinal Encoding Using OrdinalEncoder"
   ]
  },
  {
   "cell_type": "code",
   "execution_count": 1,
   "id": "eb71fb90-60b9-4728-be9c-b981dadd0728",
   "metadata": {},
   "outputs": [
    {
     "name": "stderr",
     "output_type": "stream",
     "text": [
      "C:\\Users\\alago\\AppData\\Local\\Temp\\ipykernel_14272\\1411083497.py:1: DeprecationWarning: \n",
      "Pyarrow will become a required dependency of pandas in the next major release of pandas (pandas 3.0),\n",
      "(to allow more performant data types, such as the Arrow string type, and better interoperability with other libraries)\n",
      "but was not found to be installed on your system.\n",
      "If this would cause problems for you,\n",
      "please provide us feedback at https://github.com/pandas-dev/pandas/issues/54466\n",
      "        \n",
      "  import pandas as pd\n"
     ]
    },
    {
     "name": "stdout",
     "output_type": "stream",
     "text": [
      "    Brand Size    0    1\n",
      "0  Toyota    M  3.0  1.0\n",
      "1    Ford    L  1.0  0.0\n",
      "2   Honda    S  2.0  2.0\n",
      "3  Toyota   XL  3.0  3.0\n",
      "4     BMW    M  0.0  1.0\n",
      "5    Ford    S  1.0  2.0\n",
      "6   Honda    L  2.0  0.0\n"
     ]
    }
   ],
   "source": [
    "import pandas as pd\n",
    "from sklearn import preprocessing as pp\n",
    "\n",
    "brand_size = pd.DataFrame({\n",
    "    'Brand': [\"Toyota\", \"Ford\", \"Honda\", \"Toyota\", \"BMW\", \"Ford\", \"Honda\"],\n",
    "    'Size': [\"M\", \"L\", \"S\", \"XL\", \"M\", \"S\", \"L\"]\n",
    "})\n",
    "\n",
    "ordinal = pp.OrdinalEncoder()\n",
    "\n",
    "enc_brand_size = pd.DataFrame(ordinal.fit_transform(brand_size))\n",
    "\n",
    "final_brand_size = brand_size.join(enc_brand_size)\n",
    "\n",
    "print(final_brand_size)"
   ]
  },
  {
   "cell_type": "markdown",
   "id": "cfac8054-37bf-4e15-9c60-498265b74165",
   "metadata": {},
   "source": [
    "The way that numeric values are assigned are as follows\n",
    "| Numeric Value | Brand | Size |\n",
    "| ------------- | ----- | ---- |\n",
    "| 0             | BMW   | L    |\n",
    "| 1             | Ford  | M    |\n",
    "| 2             | Honda | S    |\n",
    "| 3             | Toyota| XL   |"
   ]
  },
  {
   "cell_type": "markdown",
   "id": "a26bb425-ff09-4961-96fc-35f7a384f5d9",
   "metadata": {},
   "source": [
    "## Task 2.C Numeric Coding Using pandas' Factorize Function"
   ]
  },
  {
   "cell_type": "markdown",
   "id": "4680b8ea-0449-4569-a09e-6a4316f09b30",
   "metadata": {},
   "source": [
    "The Brands variable can be reused in this problem."
   ]
  },
  {
   "cell_type": "code",
   "execution_count": 1,
   "id": "983a59e1-3156-4572-9507-016fcabe9f86",
   "metadata": {},
   "outputs": [
    {
     "name": "stdout",
     "output_type": "stream",
     "text": [
      "[0 1 2 0 3 1 2] ['Toyota' 'Ford' 'Honda' 'BMW']\n"
     ]
    },
    {
     "name": "stderr",
     "output_type": "stream",
     "text": [
      "C:\\Users\\alago\\AppData\\Local\\Temp\\ipykernel_22992\\502101534.py:1: DeprecationWarning: \n",
      "Pyarrow will become a required dependency of pandas in the next major release of pandas (pandas 3.0),\n",
      "(to allow more performant data types, such as the Arrow string type, and better interoperability with other libraries)\n",
      "but was not found to be installed on your system.\n",
      "If this would cause problems for you,\n",
      "please provide us feedback at https://github.com/pandas-dev/pandas/issues/54466\n",
      "        \n",
      "  import pandas as pd\n",
      "C:\\Users\\alago\\AppData\\Local\\Temp\\ipykernel_22992\\502101534.py:4: FutureWarning: factorize with argument that is not not a Series, Index, ExtensionArray, or np.ndarray is deprecated and will raise in a future version.\n",
      "  label, uniques = pd.factorize(['Toyota', 'Ford', 'Honda', 'Toyota', 'BMW', 'Ford', 'Honda'])\n"
     ]
    }
   ],
   "source": [
    "import pandas as pd\n",
    "import numpy as np\n",
    "\n",
    "label, uniques = pd.factorize(['Toyota', 'Ford', 'Honda', 'Toyota', 'BMW', 'Ford', 'Honda'])\n",
    "\n",
    "print(label, uniques)"
   ]
  },
  {
   "cell_type": "markdown",
   "id": "26a8dea8-efad-41f0-bec8-4c05203f6974",
   "metadata": {},
   "source": [
    "The way that it is done is by order so since Toyota is first it gets assigned 0, and Ford being second will get 1, and so on.  \n",
    "The factorize method is simple because it makes sure that the numers are assigned in order, with scikit-learn it goes and labels them based on alphabetical order within the categories. LabelEncoder does it by the size of the brand so Toyota having the most letters the encoder gives it a label of 3."
   ]
  },
  {
   "cell_type": "markdown",
   "id": "56d62c12-f9e8-44b4-b698-fd8184b687cc",
   "metadata": {},
   "source": [
    "## Task 2.D One-Hot Encoding Using pandas' get_dummies Function"
   ]
  },
  {
   "cell_type": "code",
   "execution_count": 1,
   "id": "101c2948-2710-4528-b68b-e98e7f364f10",
   "metadata": {},
   "outputs": [
    {
     "name": "stdout",
     "output_type": "stream",
     "text": [
      "   data_BMW  data_Ford  data_Honda  data_Toyota\n",
      "0     False      False       False         True\n",
      "1     False       True       False        False\n",
      "2     False      False        True        False\n",
      "3     False      False       False         True\n",
      "4      True      False       False        False\n",
      "5     False       True       False        False\n",
      "6     False      False        True        False\n"
     ]
    },
    {
     "name": "stderr",
     "output_type": "stream",
     "text": [
      "C:\\Users\\alago\\AppData\\Local\\Temp\\ipykernel_24292\\3726889454.py:1: DeprecationWarning: \n",
      "Pyarrow will become a required dependency of pandas in the next major release of pandas (pandas 3.0),\n",
      "(to allow more performant data types, such as the Arrow string type, and better interoperability with other libraries)\n",
      "but was not found to be installed on your system.\n",
      "If this would cause problems for you,\n",
      "please provide us feedback at https://github.com/pandas-dev/pandas/issues/54466\n",
      "        \n",
      "  import pandas as pd\n"
     ]
    }
   ],
   "source": [
    "import pandas as pd\n",
    "car_brands = pd.DataFrame({ 'data' : [\"Toyota\", \"Ford\", \"Honda\", \"Toyota\", \"BMW\", \"Ford\", \"Honda\"]})\n",
    "\n",
    "dummy = pd.get_dummies(car_brands)\n",
    "print(dummy)"
   ]
  },
  {
   "cell_type": "markdown",
   "id": "01ceff1c-74b0-4456-9199-73bb4f548d2a",
   "metadata": {},
   "source": [
    "One-Hot encoding is boolean values assigned to a 2D array which makes it fast for computers to just look up if the category was present in the index but it is the worst in terms of space since it needs an array the size of the number of categories times the number of indexes."
   ]
  },
  {
   "cell_type": "markdown",
   "id": "8b3fd8a7-5ebe-4eb3-b799-5209cf9e6139",
   "metadata": {
    "jp-MarkdownHeadingCollapsed": true
   },
   "source": [
    "# Question 3 Data Preprocessing and Cleansing"
   ]
  },
  {
   "cell_type": "code",
   "execution_count": 2,
   "id": "60cfbef2-7ffc-467b-a218-99fa57fc88d6",
   "metadata": {},
   "outputs": [
    {
     "name": "stdout",
     "output_type": "stream",
     "text": [
      "   CustomeID   Age   Income  Gender   JoinDate\n",
      "0        101  25.0  50000.0    Male 2022-01-15\n",
      "1        102  28.2  62000.0  Female 2022-01-22\n",
      "2        103  31.0  64600.0    Male 2022-01-15\n",
      "3        104  22.0  45000.0  Female 2022-01-22\n",
      "4        105  28.0  78000.0  Female 2022-01-22\n",
      "5        106  35.0  88000.0  Female 2022-01-25\n"
     ]
    }
   ],
   "source": [
    "import pandas as pd\n",
    "import numpy as np\n",
    "\n",
    "customers = pd.DataFrame({\n",
    "    'CustomeID' : [101, 102, 103, 104, 105, 106],\n",
    "    'Age' : [25, np.nan, 31,-22, 28, 35],\n",
    "    'Income': [50000, 62000, np.nan, 45000, 78000, 88000],\n",
    "    'Gender' : ['Male', 'Female', 'Male', np.nan, 'Female', 'F'],\n",
    "    'JoinDate' : ['2022-01-15', '2022/01/22', '15-01-2022', '2022-01-22', np.nan, '2022-01-25']\n",
    "})\n",
    "\n",
    "customers['Age'] = customers['Age'].abs()\n",
    "customers['Age'] = customers['Age'].fillna(customers['Age'].mean())\n",
    "\n",
    "customers['Income'] = customers['Income'].fillna(customers['Income'].mean())\n",
    "\n",
    "customers['JoinDate'] = pd.to_datetime(customers['JoinDate'], format='mixed')\n",
    "customers['JoinDate'] = customers['JoinDate'].fillna(customers['JoinDate'].median())\n",
    "\n",
    "customers['Gender'] = customers['Gender'].replace('F', 'Female')\n",
    "customers['Gender'] = customers['Gender'].fillna(customers['Gender'].mode().iloc[0])\n",
    "\n",
    "print(customers)"
   ]
  },
  {
   "cell_type": "markdown",
   "id": "ba6f65c1-a7d0-4cd2-891f-5c195006725e",
   "metadata": {},
   "source": [
    "For Age I just took the absolute value and took the mean as it is a good representation of the average age in the group.  \n",
    "For income I took the average to fill the NaN to make sure that the data is within the given data.  \n",
    "For Join Date I made sure that I had YYYY-MM-DD and for the NaN I made it the median as that was the easiest to insert into the data, the mean would have had to had more formatting done.\n",
    "For Gender I replaced F with Female first and then made the NaN into the most common to continue the trend."
   ]
  },
  {
   "cell_type": "markdown",
   "id": "6c333db0-f4a1-4649-855c-abb861b85f3e",
   "metadata": {},
   "source": [
    "# Question 4: Feature  Selection"
   ]
  },
  {
   "cell_type": "markdown",
   "id": "170b3220-5fe5-4d17-afac-a30332968fd4",
   "metadata": {},
   "source": [
    "## Task 4.A Recursive Feature Elimination"
   ]
  },
  {
   "cell_type": "code",
   "execution_count": 62,
   "id": "7fc25bdc-c2c4-4be1-8809-78476e475e57",
   "metadata": {},
   "outputs": [
    {
     "name": "stdout",
     "output_type": "stream",
     "text": [
      "{'AveBedrms', 'MedInc', 'Longitude'}\n"
     ]
    }
   ],
   "source": [
    "from sklearn.feature_selection import RFE\n",
    "from sklearn.linear_model import LinearRegression\n",
    "from sklearn.datasets import fetch_california_housing\n",
    "\n",
    "\n",
    "california_housing = fetch_california_housing();\n",
    "housing_data = california_housing.data\n",
    "housing_target = california_housing.target\n",
    "\n",
    "estimator = LinearRegression()\n",
    "selector = RFE(estimator, n_features_to_select=3, step=20)\n",
    "\n",
    "selector = selector.fit(housing_data, housing_target)\n",
    "X_selected = selector.transform(housing_data)\n",
    "\n",
    "selected_features = selector.support_\n",
    "feature_ranking = selector.ranking_\n",
    "\n",
    "selected_feature_names = {california_housing.feature_names[i] for i, bool_val in enumerate(selected_features) if bool_val}\n",
    "\n",
    "print(selected_feature_names)"
   ]
  },
  {
   "cell_type": "markdown",
   "id": "57218103-8cc9-45dc-b0a0-390904e3aa0a",
   "metadata": {},
   "source": [
    "RFE works by recursively removes the least important feature based on model performance until the desired number of features is reached.\n",
    "\n",
    "The model chooses Average Bedrooms, Median Income, and Longitude.  \n",
    "Average Bedrooms is because the more bedrooms a house has the higher the cost of the house and thus the higher the income is going to get, so they have a pretty close relationship.  \n",
    "Median Income to correctly predict what the median income could be for the area that it is generating.  \n",
    "Longitude for the locations closest to the beach as that will determine how much markup the beach house is going to be.  \n",
    "Given these features a program can predict what a median income might be."
   ]
  },
  {
   "cell_type": "markdown",
   "id": "888dd771-0897-4b3c-8e90-5a02e515a404",
   "metadata": {},
   "source": [
    "## Task 4.B Feature Imporatnce from Tree-Based Models"
   ]
  },
  {
   "cell_type": "code",
   "execution_count": 72,
   "id": "3d10e517-0ecf-4994-96d0-9845d29e2436",
   "metadata": {},
   "outputs": [
    {
     "name": "stdout",
     "output_type": "stream",
     "text": [
      "[0.52487148 0.13844281 0.08893574]\n",
      "['MedInc', 'AveOccup', 'Latitude']\n"
     ]
    }
   ],
   "source": [
    "import numpy as np\n",
    "from sklearn.datasets import fetch_california_housing\n",
    "from sklearn.ensemble import RandomForestRegressor\n",
    "from sklearn.model_selection import train_test_split\n",
    "\n",
    "california_housing = fetch_california_housing();\n",
    "X = california_housing.data\n",
    "y = california_housing.target\n",
    "\n",
    "X_train, X_test, y_train, y_test = train_test_split(X,y, test_size=0.2, random_state=42)\n",
    "rf_model = RandomForestRegressor(n_estimators=100, random_state=42)\n",
    "rf_model.fit(X_train, y_train)\n",
    "\n",
    "features = rf_model.feature_importances_\n",
    "\n",
    "top3_indices = np.argsort(features)[-3:][::-1]\n",
    "top3_features = [california_housing.feature_names[i] for i in top3_indices]\n",
    "\n",
    "print(np.sort(features)[-3:][::-1])\n",
    "print(top3_features)"
   ]
  },
  {
   "cell_type": "markdown",
   "id": "7e96b343-6792-4f1b-8f1b-98048759e52b",
   "metadata": {},
   "source": [
    "Median Income being the highest feature is because that is what the model is based off of.  \n",
    "Average Occupancy tells us how many people are going into a hosuehold so the more people the more income a household could bring in.  \n",
    "Latitude is used as the more North you may get the more median income increases as Hollywood is located north California.\n",
    "\n",
    "The scores that are assigned to each feature tell us how important the Tree deemed that feature to be so a higher number would equate to the feature being given more weight. All of the features in total equal to 1 so each of the numbers corresponds to the wieght out of 100%."
   ]
  },
  {
   "cell_type": "markdown",
   "id": "340a4656-ca4b-46b8-91c3-53e77c3bf464",
   "metadata": {},
   "source": [
    "## Task 4.C L1-Based Feature Selection (Lasso Regularization)"
   ]
  },
  {
   "cell_type": "code",
   "execution_count": 91,
   "id": "9f963ccd-4ba3-47e0-a0ab-710bd2ed7828",
   "metadata": {},
   "outputs": [
    {
     "name": "stdout",
     "output_type": "stream",
     "text": [
      "[np.float64(0.3926933624477174), np.float64(-0.11429120256363863), np.float64(-0.09930764832044653)]\n",
      "['MedInc', 'Latitude', 'Longitude']\n"
     ]
    }
   ],
   "source": [
    "import numpy as np\n",
    "from sklearn.linear_model import Lasso\n",
    "from sklearn.model_selection import train_test_split\n",
    "from sklearn.datasets import fetch_california_housing\n",
    "\n",
    "california_housing = fetch_california_housing();\n",
    "X = california_housing.data\n",
    "y = california_housing.target\n",
    "\n",
    "X_train, X_test, y_train, y_test = train_test_split(X,y, test_size=0.2, random_state=42)\n",
    "lasso = Lasso(alpha=0.1)\n",
    "lasso.fit(X_train, y_train)\n",
    "\n",
    "y_pred = lasso.predict(X_test)\n",
    "\n",
    "top3_indices = np.argsort(np.abs(lasso.coef_))[-3:][::-1]\n",
    "top3_features = [california_housing.feature_names[i] for i in top3_indices]\n",
    "\n",
    "print([lasso.coef_[i] for i in top3_indices])\n",
    "print(top3_features)"
   ]
  },
  {
   "cell_type": "markdown",
   "id": "c4dc8c9f-f0b5-47e4-8f1f-7bc271ab7e9f",
   "metadata": {},
   "source": [
    "Median Income is once again significant because its the feature that we want to find.\n",
    "Both Latitude and Longitude have an inverse relationship with the Median Income that is very strong compared to the rest thus the location of the House will determine what the Median Income will be.\n",
    "\n",
    "With Lasso's simplifcation of features its reduces the risk of overfitting and selects the most important features by making sure that those are the greatest numbers in both the negative and positive values making them have the greatest influence."
   ]
  },
  {
   "cell_type": "markdown",
   "id": "8d00398d-ce43-429e-a5af-038d54f26c78",
   "metadata": {},
   "source": [
    "## 4.D Mutual Information Feature Selection"
   ]
  },
  {
   "cell_type": "code",
   "execution_count": 100,
   "id": "c48c28b3-a392-4458-8497-7b301b12a617",
   "metadata": {},
   "outputs": [
    {
     "name": "stdout",
     "output_type": "stream",
     "text": [
      "Selected features: ['MedInc', 'Latitude', 'Longitude']\n"
     ]
    }
   ],
   "source": [
    "from sklearn.feature_selection import SelectKBest, mutual_info_regression\n",
    "from sklearn.datasets import fetch_california_housing\n",
    "\n",
    "california_housing = fetch_california_housing();\n",
    "X = california_housing.data\n",
    "y = california_housing.target\n",
    "\n",
    "selector = SelectKBest(score_func=mutual_info_regression, k=3)\n",
    "X_selected = selector.fit_transform(X, y)\n",
    "\n",
    "selected_features = selector.get_support(indices=True)\n",
    "selected_feature_names = [california_housing.feature_names[i] for i in selected_features]\n",
    "\n",
    "print(\"Selected features:\", selected_feature_names)"
   ]
  },
  {
   "cell_type": "markdown",
   "id": "7a8d783a-605c-4f33-b8b0-1f6a4cf45cf1",
   "metadata": {},
   "source": []
  },
  {
   "cell_type": "markdown",
   "id": "2abcfe66-913d-4de3-b2c9-50acffe304a5",
   "metadata": {},
   "source": [
    "## 4.E Sequential Feature Selection"
   ]
  },
  {
   "cell_type": "code",
   "execution_count": 4,
   "id": "cf535add-7917-4518-a977-6528c22c345b",
   "metadata": {},
   "outputs": [
    {
     "ename": "ValueError",
     "evalue": "\nAll the 5 fits failed.\nIt is very likely that your model is misconfigured.\nYou can try to debug the error by setting error_score='raise'.\n\nBelow are more details about the failures:\n--------------------------------------------------------------------------------\n5 fits failed with the following error:\nTraceback (most recent call last):\n  File \"/home/alago/.local/share/pipx/venvs/jupyterlab/lib/python3.12/site-packages/sklearn/model_selection/_validation.py\", line 888, in _fit_and_score\n    estimator.fit(X_train, y_train, **fit_params)\n  File \"/home/alago/.local/share/pipx/venvs/jupyterlab/lib/python3.12/site-packages/sklearn/base.py\", line 1473, in wrapper\n    return fit_method(estimator, *args, **kwargs)\n           ^^^^^^^^^^^^^^^^^^^^^^^^^^^^^^^^^^^^^^\n  File \"/home/alago/.local/share/pipx/venvs/jupyterlab/lib/python3.12/site-packages/sklearn/linear_model/_logistic.py\", line 1231, in fit\n    check_classification_targets(y)\n  File \"/home/alago/.local/share/pipx/venvs/jupyterlab/lib/python3.12/site-packages/sklearn/utils/multiclass.py\", line 219, in check_classification_targets\n    raise ValueError(\nValueError: Unknown label type: continuous. Maybe you are trying to fit a classifier, which expects discrete classes on a regression target with continuous values.\n",
     "output_type": "error",
     "traceback": [
      "\u001b[0;31m---------------------------------------------------------------------------\u001b[0m",
      "\u001b[0;31mValueError\u001b[0m                                Traceback (most recent call last)",
      "Cell \u001b[0;32mIn[4], line 12\u001b[0m\n\u001b[1;32m      9\u001b[0m estimator \u001b[38;5;241m=\u001b[39m LogisticRegression()\n\u001b[1;32m     10\u001b[0m selector \u001b[38;5;241m=\u001b[39m SequentialFeatureSelector(estimator, n_features_to_select\u001b[38;5;241m=\u001b[39m\u001b[38;5;241m5\u001b[39m)\n\u001b[0;32m---> 12\u001b[0m \u001b[43mselector\u001b[49m\u001b[38;5;241;43m.\u001b[39;49m\u001b[43mfit\u001b[49m\u001b[43m(\u001b[49m\u001b[43mX\u001b[49m\u001b[43m,\u001b[49m\u001b[43my\u001b[49m\u001b[43m)\u001b[49m\n\u001b[1;32m     14\u001b[0m selected_features \u001b[38;5;241m=\u001b[39m selector\u001b[38;5;241m.\u001b[39mget_support()\n\u001b[1;32m     15\u001b[0m \u001b[38;5;28mprint\u001b[39m(selected_features)\n",
      "File \u001b[0;32m~/.local/share/pipx/venvs/jupyterlab/lib/python3.12/site-packages/sklearn/base.py:1473\u001b[0m, in \u001b[0;36m_fit_context.<locals>.decorator.<locals>.wrapper\u001b[0;34m(estimator, *args, **kwargs)\u001b[0m\n\u001b[1;32m   1466\u001b[0m     estimator\u001b[38;5;241m.\u001b[39m_validate_params()\n\u001b[1;32m   1468\u001b[0m \u001b[38;5;28;01mwith\u001b[39;00m config_context(\n\u001b[1;32m   1469\u001b[0m     skip_parameter_validation\u001b[38;5;241m=\u001b[39m(\n\u001b[1;32m   1470\u001b[0m         prefer_skip_nested_validation \u001b[38;5;129;01mor\u001b[39;00m global_skip_validation\n\u001b[1;32m   1471\u001b[0m     )\n\u001b[1;32m   1472\u001b[0m ):\n\u001b[0;32m-> 1473\u001b[0m     \u001b[38;5;28;01mreturn\u001b[39;00m \u001b[43mfit_method\u001b[49m\u001b[43m(\u001b[49m\u001b[43mestimator\u001b[49m\u001b[43m,\u001b[49m\u001b[43m \u001b[49m\u001b[38;5;241;43m*\u001b[39;49m\u001b[43margs\u001b[49m\u001b[43m,\u001b[49m\u001b[43m \u001b[49m\u001b[38;5;241;43m*\u001b[39;49m\u001b[38;5;241;43m*\u001b[39;49m\u001b[43mkwargs\u001b[49m\u001b[43m)\u001b[49m\n",
      "File \u001b[0;32m~/.local/share/pipx/venvs/jupyterlab/lib/python3.12/site-packages/sklearn/feature_selection/_sequential.py:252\u001b[0m, in \u001b[0;36mSequentialFeatureSelector.fit\u001b[0;34m(self, X, y)\u001b[0m\n\u001b[1;32m    250\u001b[0m is_auto_select \u001b[38;5;241m=\u001b[39m \u001b[38;5;28mself\u001b[39m\u001b[38;5;241m.\u001b[39mtol \u001b[38;5;129;01mis\u001b[39;00m \u001b[38;5;129;01mnot\u001b[39;00m \u001b[38;5;28;01mNone\u001b[39;00m \u001b[38;5;129;01mand\u001b[39;00m \u001b[38;5;28mself\u001b[39m\u001b[38;5;241m.\u001b[39mn_features_to_select \u001b[38;5;241m==\u001b[39m \u001b[38;5;124m\"\u001b[39m\u001b[38;5;124mauto\u001b[39m\u001b[38;5;124m\"\u001b[39m\n\u001b[1;32m    251\u001b[0m \u001b[38;5;28;01mfor\u001b[39;00m _ \u001b[38;5;129;01min\u001b[39;00m \u001b[38;5;28mrange\u001b[39m(n_iterations):\n\u001b[0;32m--> 252\u001b[0m     new_feature_idx, new_score \u001b[38;5;241m=\u001b[39m \u001b[38;5;28;43mself\u001b[39;49m\u001b[38;5;241;43m.\u001b[39;49m\u001b[43m_get_best_new_feature_score\u001b[49m\u001b[43m(\u001b[49m\n\u001b[1;32m    253\u001b[0m \u001b[43m        \u001b[49m\u001b[43mcloned_estimator\u001b[49m\u001b[43m,\u001b[49m\u001b[43m \u001b[49m\u001b[43mX\u001b[49m\u001b[43m,\u001b[49m\u001b[43m \u001b[49m\u001b[43my\u001b[49m\u001b[43m,\u001b[49m\u001b[43m \u001b[49m\u001b[43mcv\u001b[49m\u001b[43m,\u001b[49m\u001b[43m \u001b[49m\u001b[43mcurrent_mask\u001b[49m\n\u001b[1;32m    254\u001b[0m \u001b[43m    \u001b[49m\u001b[43m)\u001b[49m\n\u001b[1;32m    255\u001b[0m     \u001b[38;5;28;01mif\u001b[39;00m is_auto_select \u001b[38;5;129;01mand\u001b[39;00m ((new_score \u001b[38;5;241m-\u001b[39m old_score) \u001b[38;5;241m<\u001b[39m \u001b[38;5;28mself\u001b[39m\u001b[38;5;241m.\u001b[39mtol):\n\u001b[1;32m    256\u001b[0m         \u001b[38;5;28;01mbreak\u001b[39;00m\n",
      "File \u001b[0;32m~/.local/share/pipx/venvs/jupyterlab/lib/python3.12/site-packages/sklearn/feature_selection/_sequential.py:283\u001b[0m, in \u001b[0;36mSequentialFeatureSelector._get_best_new_feature_score\u001b[0;34m(self, estimator, X, y, cv, current_mask)\u001b[0m\n\u001b[1;32m    281\u001b[0m         candidate_mask \u001b[38;5;241m=\u001b[39m \u001b[38;5;241m~\u001b[39mcandidate_mask\n\u001b[1;32m    282\u001b[0m     X_new \u001b[38;5;241m=\u001b[39m X[:, candidate_mask]\n\u001b[0;32m--> 283\u001b[0m     scores[feature_idx] \u001b[38;5;241m=\u001b[39m \u001b[43mcross_val_score\u001b[49m\u001b[43m(\u001b[49m\n\u001b[1;32m    284\u001b[0m \u001b[43m        \u001b[49m\u001b[43mestimator\u001b[49m\u001b[43m,\u001b[49m\n\u001b[1;32m    285\u001b[0m \u001b[43m        \u001b[49m\u001b[43mX_new\u001b[49m\u001b[43m,\u001b[49m\n\u001b[1;32m    286\u001b[0m \u001b[43m        \u001b[49m\u001b[43my\u001b[49m\u001b[43m,\u001b[49m\n\u001b[1;32m    287\u001b[0m \u001b[43m        \u001b[49m\u001b[43mcv\u001b[49m\u001b[38;5;241;43m=\u001b[39;49m\u001b[43mcv\u001b[49m\u001b[43m,\u001b[49m\n\u001b[1;32m    288\u001b[0m \u001b[43m        \u001b[49m\u001b[43mscoring\u001b[49m\u001b[38;5;241;43m=\u001b[39;49m\u001b[38;5;28;43mself\u001b[39;49m\u001b[38;5;241;43m.\u001b[39;49m\u001b[43mscoring\u001b[49m\u001b[43m,\u001b[49m\n\u001b[1;32m    289\u001b[0m \u001b[43m        \u001b[49m\u001b[43mn_jobs\u001b[49m\u001b[38;5;241;43m=\u001b[39;49m\u001b[38;5;28;43mself\u001b[39;49m\u001b[38;5;241;43m.\u001b[39;49m\u001b[43mn_jobs\u001b[49m\u001b[43m,\u001b[49m\n\u001b[1;32m    290\u001b[0m \u001b[43m    \u001b[49m\u001b[43m)\u001b[49m\u001b[38;5;241m.\u001b[39mmean()\n\u001b[1;32m    291\u001b[0m new_feature_idx \u001b[38;5;241m=\u001b[39m \u001b[38;5;28mmax\u001b[39m(scores, key\u001b[38;5;241m=\u001b[39m\u001b[38;5;28;01mlambda\u001b[39;00m feature_idx: scores[feature_idx])\n\u001b[1;32m    292\u001b[0m \u001b[38;5;28;01mreturn\u001b[39;00m new_feature_idx, scores[new_feature_idx]\n",
      "File \u001b[0;32m~/.local/share/pipx/venvs/jupyterlab/lib/python3.12/site-packages/sklearn/utils/_param_validation.py:213\u001b[0m, in \u001b[0;36mvalidate_params.<locals>.decorator.<locals>.wrapper\u001b[0;34m(*args, **kwargs)\u001b[0m\n\u001b[1;32m    207\u001b[0m \u001b[38;5;28;01mtry\u001b[39;00m:\n\u001b[1;32m    208\u001b[0m     \u001b[38;5;28;01mwith\u001b[39;00m config_context(\n\u001b[1;32m    209\u001b[0m         skip_parameter_validation\u001b[38;5;241m=\u001b[39m(\n\u001b[1;32m    210\u001b[0m             prefer_skip_nested_validation \u001b[38;5;129;01mor\u001b[39;00m global_skip_validation\n\u001b[1;32m    211\u001b[0m         )\n\u001b[1;32m    212\u001b[0m     ):\n\u001b[0;32m--> 213\u001b[0m         \u001b[38;5;28;01mreturn\u001b[39;00m \u001b[43mfunc\u001b[49m\u001b[43m(\u001b[49m\u001b[38;5;241;43m*\u001b[39;49m\u001b[43margs\u001b[49m\u001b[43m,\u001b[49m\u001b[43m \u001b[49m\u001b[38;5;241;43m*\u001b[39;49m\u001b[38;5;241;43m*\u001b[39;49m\u001b[43mkwargs\u001b[49m\u001b[43m)\u001b[49m\n\u001b[1;32m    214\u001b[0m \u001b[38;5;28;01mexcept\u001b[39;00m InvalidParameterError \u001b[38;5;28;01mas\u001b[39;00m e:\n\u001b[1;32m    215\u001b[0m     \u001b[38;5;66;03m# When the function is just a wrapper around an estimator, we allow\u001b[39;00m\n\u001b[1;32m    216\u001b[0m     \u001b[38;5;66;03m# the function to delegate validation to the estimator, but we replace\u001b[39;00m\n\u001b[1;32m    217\u001b[0m     \u001b[38;5;66;03m# the name of the estimator by the name of the function in the error\u001b[39;00m\n\u001b[1;32m    218\u001b[0m     \u001b[38;5;66;03m# message to avoid confusion.\u001b[39;00m\n\u001b[1;32m    219\u001b[0m     msg \u001b[38;5;241m=\u001b[39m re\u001b[38;5;241m.\u001b[39msub(\n\u001b[1;32m    220\u001b[0m         \u001b[38;5;124mr\u001b[39m\u001b[38;5;124m\"\u001b[39m\u001b[38;5;124mparameter of \u001b[39m\u001b[38;5;124m\\\u001b[39m\u001b[38;5;124mw+ must be\u001b[39m\u001b[38;5;124m\"\u001b[39m,\n\u001b[1;32m    221\u001b[0m         \u001b[38;5;124mf\u001b[39m\u001b[38;5;124m\"\u001b[39m\u001b[38;5;124mparameter of \u001b[39m\u001b[38;5;132;01m{\u001b[39;00mfunc\u001b[38;5;241m.\u001b[39m\u001b[38;5;18m__qualname__\u001b[39m\u001b[38;5;132;01m}\u001b[39;00m\u001b[38;5;124m must be\u001b[39m\u001b[38;5;124m\"\u001b[39m,\n\u001b[1;32m    222\u001b[0m         \u001b[38;5;28mstr\u001b[39m(e),\n\u001b[1;32m    223\u001b[0m     )\n",
      "File \u001b[0;32m~/.local/share/pipx/venvs/jupyterlab/lib/python3.12/site-packages/sklearn/model_selection/_validation.py:712\u001b[0m, in \u001b[0;36mcross_val_score\u001b[0;34m(estimator, X, y, groups, scoring, cv, n_jobs, verbose, fit_params, params, pre_dispatch, error_score)\u001b[0m\n\u001b[1;32m    709\u001b[0m \u001b[38;5;66;03m# To ensure multimetric format is not supported\u001b[39;00m\n\u001b[1;32m    710\u001b[0m scorer \u001b[38;5;241m=\u001b[39m check_scoring(estimator, scoring\u001b[38;5;241m=\u001b[39mscoring)\n\u001b[0;32m--> 712\u001b[0m cv_results \u001b[38;5;241m=\u001b[39m \u001b[43mcross_validate\u001b[49m\u001b[43m(\u001b[49m\n\u001b[1;32m    713\u001b[0m \u001b[43m    \u001b[49m\u001b[43mestimator\u001b[49m\u001b[38;5;241;43m=\u001b[39;49m\u001b[43mestimator\u001b[49m\u001b[43m,\u001b[49m\n\u001b[1;32m    714\u001b[0m \u001b[43m    \u001b[49m\u001b[43mX\u001b[49m\u001b[38;5;241;43m=\u001b[39;49m\u001b[43mX\u001b[49m\u001b[43m,\u001b[49m\n\u001b[1;32m    715\u001b[0m \u001b[43m    \u001b[49m\u001b[43my\u001b[49m\u001b[38;5;241;43m=\u001b[39;49m\u001b[43my\u001b[49m\u001b[43m,\u001b[49m\n\u001b[1;32m    716\u001b[0m \u001b[43m    \u001b[49m\u001b[43mgroups\u001b[49m\u001b[38;5;241;43m=\u001b[39;49m\u001b[43mgroups\u001b[49m\u001b[43m,\u001b[49m\n\u001b[1;32m    717\u001b[0m \u001b[43m    \u001b[49m\u001b[43mscoring\u001b[49m\u001b[38;5;241;43m=\u001b[39;49m\u001b[43m{\u001b[49m\u001b[38;5;124;43m\"\u001b[39;49m\u001b[38;5;124;43mscore\u001b[39;49m\u001b[38;5;124;43m\"\u001b[39;49m\u001b[43m:\u001b[49m\u001b[43m \u001b[49m\u001b[43mscorer\u001b[49m\u001b[43m}\u001b[49m\u001b[43m,\u001b[49m\n\u001b[1;32m    718\u001b[0m \u001b[43m    \u001b[49m\u001b[43mcv\u001b[49m\u001b[38;5;241;43m=\u001b[39;49m\u001b[43mcv\u001b[49m\u001b[43m,\u001b[49m\n\u001b[1;32m    719\u001b[0m \u001b[43m    \u001b[49m\u001b[43mn_jobs\u001b[49m\u001b[38;5;241;43m=\u001b[39;49m\u001b[43mn_jobs\u001b[49m\u001b[43m,\u001b[49m\n\u001b[1;32m    720\u001b[0m \u001b[43m    \u001b[49m\u001b[43mverbose\u001b[49m\u001b[38;5;241;43m=\u001b[39;49m\u001b[43mverbose\u001b[49m\u001b[43m,\u001b[49m\n\u001b[1;32m    721\u001b[0m \u001b[43m    \u001b[49m\u001b[43mfit_params\u001b[49m\u001b[38;5;241;43m=\u001b[39;49m\u001b[43mfit_params\u001b[49m\u001b[43m,\u001b[49m\n\u001b[1;32m    722\u001b[0m \u001b[43m    \u001b[49m\u001b[43mparams\u001b[49m\u001b[38;5;241;43m=\u001b[39;49m\u001b[43mparams\u001b[49m\u001b[43m,\u001b[49m\n\u001b[1;32m    723\u001b[0m \u001b[43m    \u001b[49m\u001b[43mpre_dispatch\u001b[49m\u001b[38;5;241;43m=\u001b[39;49m\u001b[43mpre_dispatch\u001b[49m\u001b[43m,\u001b[49m\n\u001b[1;32m    724\u001b[0m \u001b[43m    \u001b[49m\u001b[43merror_score\u001b[49m\u001b[38;5;241;43m=\u001b[39;49m\u001b[43merror_score\u001b[49m\u001b[43m,\u001b[49m\n\u001b[1;32m    725\u001b[0m \u001b[43m\u001b[49m\u001b[43m)\u001b[49m\n\u001b[1;32m    726\u001b[0m \u001b[38;5;28;01mreturn\u001b[39;00m cv_results[\u001b[38;5;124m\"\u001b[39m\u001b[38;5;124mtest_score\u001b[39m\u001b[38;5;124m\"\u001b[39m]\n",
      "File \u001b[0;32m~/.local/share/pipx/venvs/jupyterlab/lib/python3.12/site-packages/sklearn/utils/_param_validation.py:213\u001b[0m, in \u001b[0;36mvalidate_params.<locals>.decorator.<locals>.wrapper\u001b[0;34m(*args, **kwargs)\u001b[0m\n\u001b[1;32m    207\u001b[0m \u001b[38;5;28;01mtry\u001b[39;00m:\n\u001b[1;32m    208\u001b[0m     \u001b[38;5;28;01mwith\u001b[39;00m config_context(\n\u001b[1;32m    209\u001b[0m         skip_parameter_validation\u001b[38;5;241m=\u001b[39m(\n\u001b[1;32m    210\u001b[0m             prefer_skip_nested_validation \u001b[38;5;129;01mor\u001b[39;00m global_skip_validation\n\u001b[1;32m    211\u001b[0m         )\n\u001b[1;32m    212\u001b[0m     ):\n\u001b[0;32m--> 213\u001b[0m         \u001b[38;5;28;01mreturn\u001b[39;00m \u001b[43mfunc\u001b[49m\u001b[43m(\u001b[49m\u001b[38;5;241;43m*\u001b[39;49m\u001b[43margs\u001b[49m\u001b[43m,\u001b[49m\u001b[43m \u001b[49m\u001b[38;5;241;43m*\u001b[39;49m\u001b[38;5;241;43m*\u001b[39;49m\u001b[43mkwargs\u001b[49m\u001b[43m)\u001b[49m\n\u001b[1;32m    214\u001b[0m \u001b[38;5;28;01mexcept\u001b[39;00m InvalidParameterError \u001b[38;5;28;01mas\u001b[39;00m e:\n\u001b[1;32m    215\u001b[0m     \u001b[38;5;66;03m# When the function is just a wrapper around an estimator, we allow\u001b[39;00m\n\u001b[1;32m    216\u001b[0m     \u001b[38;5;66;03m# the function to delegate validation to the estimator, but we replace\u001b[39;00m\n\u001b[1;32m    217\u001b[0m     \u001b[38;5;66;03m# the name of the estimator by the name of the function in the error\u001b[39;00m\n\u001b[1;32m    218\u001b[0m     \u001b[38;5;66;03m# message to avoid confusion.\u001b[39;00m\n\u001b[1;32m    219\u001b[0m     msg \u001b[38;5;241m=\u001b[39m re\u001b[38;5;241m.\u001b[39msub(\n\u001b[1;32m    220\u001b[0m         \u001b[38;5;124mr\u001b[39m\u001b[38;5;124m\"\u001b[39m\u001b[38;5;124mparameter of \u001b[39m\u001b[38;5;124m\\\u001b[39m\u001b[38;5;124mw+ must be\u001b[39m\u001b[38;5;124m\"\u001b[39m,\n\u001b[1;32m    221\u001b[0m         \u001b[38;5;124mf\u001b[39m\u001b[38;5;124m\"\u001b[39m\u001b[38;5;124mparameter of \u001b[39m\u001b[38;5;132;01m{\u001b[39;00mfunc\u001b[38;5;241m.\u001b[39m\u001b[38;5;18m__qualname__\u001b[39m\u001b[38;5;132;01m}\u001b[39;00m\u001b[38;5;124m must be\u001b[39m\u001b[38;5;124m\"\u001b[39m,\n\u001b[1;32m    222\u001b[0m         \u001b[38;5;28mstr\u001b[39m(e),\n\u001b[1;32m    223\u001b[0m     )\n",
      "File \u001b[0;32m~/.local/share/pipx/venvs/jupyterlab/lib/python3.12/site-packages/sklearn/model_selection/_validation.py:443\u001b[0m, in \u001b[0;36mcross_validate\u001b[0;34m(estimator, X, y, groups, scoring, cv, n_jobs, verbose, fit_params, params, pre_dispatch, return_train_score, return_estimator, return_indices, error_score)\u001b[0m\n\u001b[1;32m    422\u001b[0m parallel \u001b[38;5;241m=\u001b[39m Parallel(n_jobs\u001b[38;5;241m=\u001b[39mn_jobs, verbose\u001b[38;5;241m=\u001b[39mverbose, pre_dispatch\u001b[38;5;241m=\u001b[39mpre_dispatch)\n\u001b[1;32m    423\u001b[0m results \u001b[38;5;241m=\u001b[39m parallel(\n\u001b[1;32m    424\u001b[0m     delayed(_fit_and_score)(\n\u001b[1;32m    425\u001b[0m         clone(estimator),\n\u001b[0;32m   (...)\u001b[0m\n\u001b[1;32m    440\u001b[0m     \u001b[38;5;28;01mfor\u001b[39;00m train, test \u001b[38;5;129;01min\u001b[39;00m indices\n\u001b[1;32m    441\u001b[0m )\n\u001b[0;32m--> 443\u001b[0m \u001b[43m_warn_or_raise_about_fit_failures\u001b[49m\u001b[43m(\u001b[49m\u001b[43mresults\u001b[49m\u001b[43m,\u001b[49m\u001b[43m \u001b[49m\u001b[43merror_score\u001b[49m\u001b[43m)\u001b[49m\n\u001b[1;32m    445\u001b[0m \u001b[38;5;66;03m# For callable scoring, the return type is only know after calling. If the\u001b[39;00m\n\u001b[1;32m    446\u001b[0m \u001b[38;5;66;03m# return type is a dictionary, the error scores can now be inserted with\u001b[39;00m\n\u001b[1;32m    447\u001b[0m \u001b[38;5;66;03m# the correct key.\u001b[39;00m\n\u001b[1;32m    448\u001b[0m \u001b[38;5;28;01mif\u001b[39;00m \u001b[38;5;28mcallable\u001b[39m(scoring):\n",
      "File \u001b[0;32m~/.local/share/pipx/venvs/jupyterlab/lib/python3.12/site-packages/sklearn/model_selection/_validation.py:529\u001b[0m, in \u001b[0;36m_warn_or_raise_about_fit_failures\u001b[0;34m(results, error_score)\u001b[0m\n\u001b[1;32m    522\u001b[0m \u001b[38;5;28;01mif\u001b[39;00m num_failed_fits \u001b[38;5;241m==\u001b[39m num_fits:\n\u001b[1;32m    523\u001b[0m     all_fits_failed_message \u001b[38;5;241m=\u001b[39m (\n\u001b[1;32m    524\u001b[0m         \u001b[38;5;124mf\u001b[39m\u001b[38;5;124m\"\u001b[39m\u001b[38;5;130;01m\\n\u001b[39;00m\u001b[38;5;124mAll the \u001b[39m\u001b[38;5;132;01m{\u001b[39;00mnum_fits\u001b[38;5;132;01m}\u001b[39;00m\u001b[38;5;124m fits failed.\u001b[39m\u001b[38;5;130;01m\\n\u001b[39;00m\u001b[38;5;124m\"\u001b[39m\n\u001b[1;32m    525\u001b[0m         \u001b[38;5;124m\"\u001b[39m\u001b[38;5;124mIt is very likely that your model is misconfigured.\u001b[39m\u001b[38;5;130;01m\\n\u001b[39;00m\u001b[38;5;124m\"\u001b[39m\n\u001b[1;32m    526\u001b[0m         \u001b[38;5;124m\"\u001b[39m\u001b[38;5;124mYou can try to debug the error by setting error_score=\u001b[39m\u001b[38;5;124m'\u001b[39m\u001b[38;5;124mraise\u001b[39m\u001b[38;5;124m'\u001b[39m\u001b[38;5;124m.\u001b[39m\u001b[38;5;130;01m\\n\u001b[39;00m\u001b[38;5;130;01m\\n\u001b[39;00m\u001b[38;5;124m\"\u001b[39m\n\u001b[1;32m    527\u001b[0m         \u001b[38;5;124mf\u001b[39m\u001b[38;5;124m\"\u001b[39m\u001b[38;5;124mBelow are more details about the failures:\u001b[39m\u001b[38;5;130;01m\\n\u001b[39;00m\u001b[38;5;132;01m{\u001b[39;00mfit_errors_summary\u001b[38;5;132;01m}\u001b[39;00m\u001b[38;5;124m\"\u001b[39m\n\u001b[1;32m    528\u001b[0m     )\n\u001b[0;32m--> 529\u001b[0m     \u001b[38;5;28;01mraise\u001b[39;00m \u001b[38;5;167;01mValueError\u001b[39;00m(all_fits_failed_message)\n\u001b[1;32m    531\u001b[0m \u001b[38;5;28;01melse\u001b[39;00m:\n\u001b[1;32m    532\u001b[0m     some_fits_failed_message \u001b[38;5;241m=\u001b[39m (\n\u001b[1;32m    533\u001b[0m         \u001b[38;5;124mf\u001b[39m\u001b[38;5;124m\"\u001b[39m\u001b[38;5;130;01m\\n\u001b[39;00m\u001b[38;5;132;01m{\u001b[39;00mnum_failed_fits\u001b[38;5;132;01m}\u001b[39;00m\u001b[38;5;124m fits failed out of a total of \u001b[39m\u001b[38;5;132;01m{\u001b[39;00mnum_fits\u001b[38;5;132;01m}\u001b[39;00m\u001b[38;5;124m.\u001b[39m\u001b[38;5;130;01m\\n\u001b[39;00m\u001b[38;5;124m\"\u001b[39m\n\u001b[1;32m    534\u001b[0m         \u001b[38;5;124m\"\u001b[39m\u001b[38;5;124mThe score on these train-test partitions for these parameters\u001b[39m\u001b[38;5;124m\"\u001b[39m\n\u001b[0;32m   (...)\u001b[0m\n\u001b[1;32m    538\u001b[0m         \u001b[38;5;124mf\u001b[39m\u001b[38;5;124m\"\u001b[39m\u001b[38;5;124mBelow are more details about the failures:\u001b[39m\u001b[38;5;130;01m\\n\u001b[39;00m\u001b[38;5;132;01m{\u001b[39;00mfit_errors_summary\u001b[38;5;132;01m}\u001b[39;00m\u001b[38;5;124m\"\u001b[39m\n\u001b[1;32m    539\u001b[0m     )\n",
      "\u001b[0;31mValueError\u001b[0m: \nAll the 5 fits failed.\nIt is very likely that your model is misconfigured.\nYou can try to debug the error by setting error_score='raise'.\n\nBelow are more details about the failures:\n--------------------------------------------------------------------------------\n5 fits failed with the following error:\nTraceback (most recent call last):\n  File \"/home/alago/.local/share/pipx/venvs/jupyterlab/lib/python3.12/site-packages/sklearn/model_selection/_validation.py\", line 888, in _fit_and_score\n    estimator.fit(X_train, y_train, **fit_params)\n  File \"/home/alago/.local/share/pipx/venvs/jupyterlab/lib/python3.12/site-packages/sklearn/base.py\", line 1473, in wrapper\n    return fit_method(estimator, *args, **kwargs)\n           ^^^^^^^^^^^^^^^^^^^^^^^^^^^^^^^^^^^^^^\n  File \"/home/alago/.local/share/pipx/venvs/jupyterlab/lib/python3.12/site-packages/sklearn/linear_model/_logistic.py\", line 1231, in fit\n    check_classification_targets(y)\n  File \"/home/alago/.local/share/pipx/venvs/jupyterlab/lib/python3.12/site-packages/sklearn/utils/multiclass.py\", line 219, in check_classification_targets\n    raise ValueError(\nValueError: Unknown label type: continuous. Maybe you are trying to fit a classifier, which expects discrete classes on a regression target with continuous values.\n"
     ]
    }
   ],
   "source": [
    "from sklearn.datasets import fetch_california_housing\n",
    "from sklearn.feature_selection import SequentialFeatureSelector\n",
    "from sklearn.linear_model import LogisticRegression\n",
    "\n",
    "california_housing = fetch_california_housing();\n",
    "X = california_housing.data\n",
    "y = california_housing.target\n",
    "\n",
    "estimator = LogisticRegression()\n",
    "selector = SequentialFeatureSelector(estimator, n_features_to_select=5)\n",
    "\n",
    "selector.fit(X,y)\n",
    "\n",
    "selected_features = selector.get_support()\n",
    "print(selected_features)"
   ]
  },
  {
   "cell_type": "markdown",
   "id": "5deb4aea-9f12-4178-be27-e70c76b4310e",
   "metadata": {
    "jp-MarkdownHeadingCollapsed": true
   },
   "source": [
    "# Question 5: Data Transformation"
   ]
  },
  {
   "cell_type": "code",
   "execution_count": 5,
   "id": "3bf9a692-9b12-4a12-ac97-173e58c9ca33",
   "metadata": {},
   "outputs": [
    {
     "data": {
      "image/png": "[encoded data removed]",
      "text/plain": [
       "<Figure size 640x480 with 2 Axes>"
      ]
     },
     "metadata": {},
     "output_type": "display_data"
    }
   ],
   "source": [
    "import pandas as pd\n",
    "import numpy as np\n",
    "import matplotlib.pyplot as plt\n",
    "\n",
    "df = pd.DataFrame( {'HouseID': [1,2,3,4,5,6,7], 'LotSize': [400,16000,25000,36000,49000,64000,81000] })\n",
    "df.insert(2, 'LotSizeRoot', df['LotSize'].apply(lambda x: np.sqrt(x)), True)\n",
    "\n",
    "fig, ax1 = plt.subplots()\n",
    "\n",
    "ax1.set_xlabel('House ID')\n",
    "\n",
    "ax1.set_ylabel('Lot Size')\n",
    "ax1.plot('HouseID', 'LotSize', data=df)\n",
    "ax1.tick_params(axis = 'y', labelcolor = 'blue')\n",
    "\n",
    "ax2 = ax1.twinx()\n",
    "ax2.set_ylabel('Lot Size Root')\n",
    "ax2.plot('HouseID', 'LotSizeRoot', data=df, color='orange')\n",
    "ax2.tick_params(labelcolor = 'orange')\n",
    "\n",
    "plt.show()\n"
   ]
  },
  {
   "cell_type": "markdown",
   "id": "d356baf8-9d31-48b0-b485-4b8a369b4960",
   "metadata": {},
   "source": [
    "The Square Root transformation made it so that the data given follows a linear curve after the second house. With the unrooted data there is a curve and a more complicated formula is needed to make sure the data works well, as opposed to the rooted data there is more of a relationship between the house id and then lot size."
   ]
  }
 ],
 "metadata": {
  "kernelspec": {
   "display_name": "Python 3 (ipykernel)",
   "language": "python",
   "name": "python3"
  },
  "language_info": {
   "codemirror_mode": {
    "name": "ipython",
    "version": 3
   },
   "file_extension": ".py",
   "mimetype": "text/x-python",
   "name": "python",
   "nbconvert_exporter": "python",
   "pygments_lexer": "ipython3",
   "version": "3.12.3"
  }
 },
 "nbformat": 4,
 "nbformat_minor": 5
}
