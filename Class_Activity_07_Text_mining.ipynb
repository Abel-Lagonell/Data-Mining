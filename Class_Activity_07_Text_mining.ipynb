{
 "cells": [
  {
   "cell_type": "markdown",
   "metadata": {
    "id": "wwiZq8WdC8QC"
   },
   "source": [
    "# Chapter 20: Text mining\n",
    "\n",
    "> (c) 2019 Galit Shmueli, Peter C. Bruce, Peter Gedeck\n",
    ">\n",
    "> Code included in\n",
    ">\n",
    "> _Data Mining for Business Analytics: Concepts, Techniques, and Applications in Python_ (First Edition)\n",
    "> Galit Shmueli, Peter C. Bruce, Peter Gedeck, and Nitin R. Patel. 2019.\n",
    "\n",
    "## Import required packages"
   ]
  },
  {
   "cell_type": "markdown",
   "metadata": {
    "id": "NmfY5utnC8QD"
   },
   "source": [
    "Make sure DMBA package is available"
   ]
  },
  {
   "cell_type": "code",
   "execution_count": 2,
   "metadata": {
    "id": "pbuao-8fC8QD",
    "outputId": "ca52dcd3-41f0-488b-ce1d-b857463d5708"
   },
   "outputs": [
    {
     "name": "stdout",
     "output_type": "stream",
     "text": [
      "Collecting nltk\n",
      "  Downloading nltk-3.9.1-py3-none-any.whl.metadata (2.9 kB)\n",
      "Collecting click (from nltk)\n",
      "  Downloading click-8.1.7-py3-none-any.whl.metadata (3.0 kB)\n",
      "Requirement already satisfied: joblib in /home/alago/.local/share/pipx/venvs/jupyterlab/lib/python3.12/site-packages (from nltk) (1.4.2)\n",
      "Collecting regex>=2021.8.3 (from nltk)\n",
      "  Downloading regex-2024.9.11-cp312-cp312-manylinux_2_17_x86_64.manylinux2014_x86_64.whl.metadata (40 kB)\n",
      "Collecting tqdm (from nltk)\n",
      "  Downloading tqdm-4.66.6-py3-none-any.whl.metadata (57 kB)\n",
      "Downloading nltk-3.9.1-py3-none-any.whl (1.5 MB)\n",
      "\u001b[2K   \u001b[38;2;114;156;31m━━━━━━━━━━━━━━━━━━━━━━━━━━━━━━━━━━━━━━━━\u001b[0m \u001b[32m1.5/1.5 MB\u001b[0m \u001b[31m5.8 MB/s\u001b[0m eta \u001b[36m0:00:00\u001b[0m[31m6.2 MB/s\u001b[0m eta \u001b[36m0:00:01\u001b[0m\n",
      "\u001b[?25hDownloading regex-2024.9.11-cp312-cp312-manylinux_2_17_x86_64.manylinux2014_x86_64.whl (797 kB)\n",
      "\u001b[2K   \u001b[38;2;114;156;31m━━━━━━━━━━━━━━━━━━━━━━━━━━━━━━━━━━━━━━━━\u001b[0m \u001b[32m797.0/797.0 kB\u001b[0m \u001b[31m6.7 MB/s\u001b[0m eta \u001b[36m0:00:00\u001b[0m\n",
      "\u001b[?25hDownloading click-8.1.7-py3-none-any.whl (97 kB)\n",
      "Downloading tqdm-4.66.6-py3-none-any.whl (78 kB)\n",
      "Installing collected packages: tqdm, regex, click, nltk\n",
      "Successfully installed click-8.1.7 nltk-3.9.1 regex-2024.9.11 tqdm-4.66.6\n",
      "\n",
      "\u001b[1m[\u001b[0m\u001b[34;49mnotice\u001b[0m\u001b[1;39;49m]\u001b[0m\u001b[39;49m A new release of pip is available: \u001b[0m\u001b[31;49m24.2\u001b[0m\u001b[39;49m -> \u001b[0m\u001b[32;49m24.3.1\u001b[0m\n",
      "\u001b[1m[\u001b[0m\u001b[34;49mnotice\u001b[0m\u001b[1;39;49m]\u001b[0m\u001b[39;49m To update, run: \u001b[0m\u001b[32;49m/home/alago/.local/share/pipx/venvs/jupyterlab/bin/python -m pip install --upgrade pip\u001b[0m\n",
      "Note: you may need to restart the kernel to use updated packages.\n"
     ]
    },
    {
     "name": "stdout",
     "output_type": "stream",
     "text": [
      "Note: you may need to restart the kernel to use updated packages.\n"
     ]
    }
   ],
   "source": [
    "pip install nltk"
   ]
  },
  {
   "cell_type": "markdown",
   "metadata": {
    "id": "ZAbcIrGSHHy0"
   },
   "source": [
    "\n",
    "\n",
    "\n",
    "- **Library Imports**: Each library or module is imported for a specific purpose, mostly related to text processing, machine learning, and data visualization.\n",
    "- **NLTK Download**: Downloads the Punkt tokenizer model for splitting text into individual words. This is essential for the tokenization process in NLTK.\n",
    "- **Matplotlib Inline**: `%matplotlib inline` is specific to Jupyter Notebooks, allowing plots to be shown inline. This line is not necessary if running outside of Jupyter.\n",
    "\n",
    "This setup prepares you for a text mining pipeline that includes:\n",
    "1. Reading and processing text data.\n",
    "2. Transforming text data into a numeric form.\n",
    "3. Reducing the dimensionality of the data using LSA.\n",
    "4. Fitting a logistic regression model to predict labels based on text.\n",
    "5. Using custom functions for data summaries and visualization.\n",
    "\n",
    "Each step in this code sets up necessary libraries and tools to perform these actions."
   ]
  },
  {
   "cell_type": "code",
   "execution_count": 29,
   "metadata": {
    "id": "5SnCAqH_C8QE",
    "outputId": "86d85194-d6cc-41ba-f5a5-bbe6084bd69b"
   },
   "outputs": [
    {
     "name": "stderr",
     "output_type": "stream",
     "text": [
      "[nltk_data] Downloading package punkt to /home/alago/nltk_data...\n",
      "[nltk_data]   Package punkt is already up-to-date!\n",
      "[nltk_data] Downloading package punkt_tab to /home/alago/nltk_data...\n",
      "[nltk_data]   Unzipping tokenizers/punkt_tab.zip.\n"
     ]
    }
   ],
   "source": [
    "# Importing necessary libraries for file handling, data processing, machine learning, and text processing\n",
    "from pathlib import Path  # To handle file paths\n",
    "from zipfile import ZipFile  # To work with zip files\n",
    "import pandas as pd  # Data manipulation library\n",
    "from sklearn.model_selection import train_test_split  # For splitting data into training and test sets\n",
    "from sklearn.feature_extraction.text import CountVectorizer  # For converting text to a bag-of-words model\n",
    "from sklearn.feature_extraction.text import TfidfTransformer  # To apply TF-IDF transformation on bag-of-words model\n",
    "from sklearn.decomposition import TruncatedSVD  # For dimensionality reduction, used here for LSA\n",
    "from sklearn.preprocessing import Normalizer  # To normalize the data after SVD\n",
    "from sklearn.pipeline import make_pipeline  # To create a pipeline that applies multiple transformations in sequence\n",
    "from sklearn.linear_model import LogisticRegression  # Logistic regression model for classification\n",
    "import nltk  # Natural Language Toolkit for text processing\n",
    "from nltk import word_tokenize  # For tokenizing text data into words\n",
    "from nltk.stem.snowball import EnglishStemmer  # For stemming English words to their root forms\n",
    "import matplotlib.pylab as plt  # For data visualization\n",
    "\n",
    "# Importing additional functions from the dmba library, possibly custom to the user environment\n",
    "import dmba\n",
    "from dmba import printTermDocumentMatrix, classificationSummary, liftChart  # Specific dmba functions\n",
    "\n",
    "# Downloading the Punkt tokenizer models, necessary for word tokenization in NLTK\n",
    "nltk.download('punkt')\n",
    "nltk.download('punkt_tab')\n",
    "\n",
    "# Setting up inline plotting for Jupyter Notebook; displays plots directly below code cells\n",
    "%matplotlib inline\n",
    "\n"
   ]
  },
  {
   "cell_type": "markdown",
   "metadata": {
    "id": "j_RYmGnJC8QE"
   },
   "source": [
    "## Term-document representation of words in sentences S1-S3\n"
   ]
  },
  {
   "cell_type": "markdown",
   "metadata": {
    "id": "KiPPzKbpL2gB"
   },
   "source": [
    "**Question 1:**\n",
    "\n",
    "You are given the following three sentences, and your task is to construct a term-document matrix based on these sentences using the `CountVectorizer` from `scikit-learn`. The matrix should display each unique word across the sentences, with each cell showing the count of the word’s occurrence in that sentence.\n",
    "\n",
    "Sentences:\n",
    "1. \"this is the first sentence.\"\n",
    "2. \"this is a second sentence.\"\n",
    "3. \"the third sentence is here.\"\n",
    "\n",
    "**Steps:**\n",
    "1. Identify all unique words across the sentences.\n",
    "2. For each sentence, count how often each unique word appears.\n",
    "3. Construct the term-document matrix, where rows represent words and columns represent sentences (S1, S2, S3).\n",
    "\n",
    "**Hints:**\n",
    "- Use `CountVectorizer` to automatically tokenize and count each word.\n",
    "- `printTermDocumentMatrix` is a helpful function that can format your matrix for easy viewing.\n",
    "- Remember to remove any punctuation and convert words to lowercase for consistency.\n",
    "\n"
   ]
  },
  {
   "cell_type": "code",
   "execution_count": 14,
   "metadata": {
    "id": "ocvquguvC8QE",
    "outputId": "16b9b163-7a25-4c46-a381-b26154c33b83"
   },
   "outputs": [
    {
     "name": "stdout",
     "output_type": "stream",
     "text": [
      "                S1        S2        S3\n",
      "first     2.098612  0.000000  0.000000\n",
      "here      0.000000  0.000000  2.098612\n",
      "is        1.000000  1.000000  1.000000\n",
      "second    0.000000  2.098612  0.000000\n",
      "sentence  1.000000  1.000000  1.000000\n",
      "the       1.405465  0.000000  1.405465\n",
      "third     0.000000  0.000000  2.098612\n",
      "this      1.405465  1.405465  0.000000\n"
     ]
    }
   ],
   "source": [
    "# Sample text data: three sentences to be represented in a term-document matrix\n",
    "text = [\n",
    "    'this is the first sentence.',\n",
    "    'this is a second sentence.',\n",
    "    'the third sentence is here.'\n",
    "]\n",
    "\n",
    "# write code here\n",
    "count_vect = CountVectorizer()\n",
    "tfidTransformer = TfidfTransformer(smooth_idf=False, norm=None)\n",
    "counts = count_vect.fit_transform(text)\n",
    "tfid = tfidTransformer.fit_transform(counts)\n",
    "\n",
    "printTermDocumentMatrix(count_vect, tfid)\n",
    "\n"
   ]
  },
  {
   "cell_type": "markdown",
   "metadata": {
    "id": "LTlRB3zKC8QE"
   },
   "source": [
    "**Question 2:**\n",
    "\n",
    "You are given four sentences with mixed casing and special characters. Your task is to construct a term-document matrix based on these sentences using `CountVectorizer` in Python. The matrix should display each unique word across the sentences, with each cell showing the count of that word’s occurrence in each sentence.\n",
    "\n",
    "Sentences:\n",
    "1. \"this is the first sentence!!\"\n",
    "2. \"this is a second Sentence :)\"\n",
    "3. \"the third sentence, is here\"\n",
    "4. \"forth of all sentences\"\n",
    "\n",
    "**Steps:**\n",
    "1. **Identify the unique words** that will appear as columns in the matrix.\n",
    "2. **Construct the term-document matrix**, ensuring that punctuation is ignored and text is treated as lowercase.\n",
    "3. **Analyze the output** to check if any special characters or mixed cases affected the word counting.\n",
    "\n",
    "**Hints:**\n",
    "- By default, `CountVectorizer` will convert all words to lowercase and remove punctuation.\n",
    "- Each row in the output should represent a unique word, while each column represents a sentence (S1, S2, S3, S4).\n",
    "- Use `printTermDocumentMatrix` to view the matrix in an organized format.\n",
    "\n"
   ]
  },
  {
   "cell_type": "code",
   "execution_count": 16,
   "metadata": {
    "id": "pu7SWegvC8QE",
    "outputId": "3bd97dac-80b9-47b5-e079-6bb52139f67e"
   },
   "outputs": [
    {
     "name": "stdout",
     "output_type": "stream",
     "text": [
      "                 S1        S2        S3        S4\n",
      "all        0.000000  0.000000  0.000000  2.386294\n",
      "first      2.386294  0.000000  0.000000  0.000000\n",
      "forth      0.000000  0.000000  0.000000  2.386294\n",
      "here       0.000000  0.000000  2.386294  0.000000\n",
      "is         1.287682  1.287682  1.287682  0.000000\n",
      "of         0.000000  0.000000  0.000000  2.386294\n",
      "second     0.000000  2.386294  0.000000  0.000000\n",
      "sentence   1.287682  1.287682  1.287682  0.000000\n",
      "sentences  0.000000  0.000000  0.000000  2.386294\n",
      "the        1.693147  0.000000  1.693147  0.000000\n",
      "third      0.000000  0.000000  2.386294  0.000000\n",
      "this       1.693147  1.693147  0.000000  0.000000\n"
     ]
    }
   ],
   "source": [
    "# Sample text data: Four sentences with special characters and mixed casing\n",
    "text = [\n",
    "    'this is the first sentence!!',         # S1\n",
    "    'this is a second Sentence :)',         # S2\n",
    "    'the third sentence, is here ',         # S3\n",
    "    'forth of all sentences'                # S4\n",
    "]\n",
    "\n",
    "\n",
    "# write code here\n",
    "\n",
    "count_vect = CountVectorizer()\n",
    "tfidTransformer = TfidfTransformer(smooth_idf=False, norm=None)\n",
    "counts = count_vect.fit_transform(text)\n",
    "tfid = tfidTransformer.fit_transform(counts)\n",
    "\n",
    "printTermDocumentMatrix(count_vect, tfid)"
   ]
  },
  {
   "cell_type": "markdown",
   "metadata": {
    "id": "i7cN3ZzAC8QF"
   },
   "source": [
    "\n",
    "### **Question 3:**\n",
    "\n",
    "You are given a set of four sentences with special characters and varied formatting. Your task is to create a term-document matrix using `CountVectorizer` with a custom token pattern that treats special characters as part of the tokens.\n",
    "\n",
    "Sentences:\n",
    "1. \"This is the first     sentence!!\"\n",
    "2. \"this is a second Sentence :)\"\n",
    "3. \"the third sentence, is here \"\n",
    "4. \"forth of all sentences\"\n",
    "\n",
    "**Steps:**\n",
    "1. **Identify Tokens**: Review the token pattern `[a-zA-Z!:)]+` and determine which words and symbols will be considered as tokens.\n",
    "2. **Generate the Term-Document Matrix**: Use `CountVectorizer` with the custom token pattern to build the term-document matrix.\n",
    "3. **Analyze the Output**: Interpret how different words and special characters are counted in each sentence.\n",
    "\n",
    "**Hints:**\n",
    "- The token pattern `[a-zA-Z!:)]+` includes alphabetical characters, exclamation marks (`!`), colons (`:`), and parentheses (`)`).\n",
    "- Each token is treated as a single entity, even if it contains special characters.\n"
   ]
  },
  {
   "cell_type": "code",
   "execution_count": 18,
   "metadata": {
    "id": "mwX4RbG9C8QF",
    "outputId": "1cf2ce6f-6f44-4b25-c59c-081a53abac02"
   },
   "outputs": [
    {
     "name": "stdout",
     "output_type": "stream",
     "text": [
      "            S1  S2  S3  S4\n",
      ":)           0   1   0   0\n",
      "a            0   1   0   0\n",
      "all          0   0   0   1\n",
      "first        1   0   0   0\n",
      "forth        0   0   0   1\n",
      "here         0   0   1   0\n",
      "is           1   1   1   0\n",
      "of           0   0   0   1\n",
      "second       0   1   0   0\n",
      "sentence     0   1   1   0\n",
      "sentence!!   1   0   0   0\n",
      "sentences    0   0   0   1\n",
      "the          1   0   1   0\n",
      "third        0   0   1   0\n",
      "this         1   1   0   0\n"
     ]
    }
   ],
   "source": [
    "# Sample text data with special characters and varied formatting\n",
    "text = [\n",
    "    'this is the first     sentence!!',      # S1\n",
    "    'this is a second Sentence :)',          # S2\n",
    "    'the third sentence, is here ',          # S3\n",
    "    'forth of all sentences'                 # S4\n",
    "]\n",
    "\n",
    "# write code here\n",
    "\n",
    "count_vect = CountVectorizer(token_pattern='[a-zA-Z!:)]+')\n",
    "counts = count_vect.fit_transform(text)\n",
    "\n",
    "printTermDocumentMatrix(count_vect, counts)\n",
    "\n",
    "\n",
    "\n"
   ]
  },
  {
   "cell_type": "markdown",
   "metadata": {
    "id": "eGD2MOL7C8QF"
   },
   "source": [
    "### **Question 4: Exploring Stopwords in Text Processing**\n",
    "\n",
    "**Objective:** Understand the role of stopwords in text preprocessing and how they can impact the analysis of textual data.\n",
    "\n",
    "**Question:**\n",
    "\n",
    "1. **Reviewing Stopwords**: Examine the list of English stopwords displayed in the output above.\n",
    "   - How many stopwords are included in scikit-learn’s default set?\n",
    "   - Why might certain words, like \"above,\" \"below,\" and \"upon,\" be considered stopwords?\n",
    "\n",
    "2. **Impact on Text Analysis**:\n",
    "   - Discuss how removing these stopwords could change the outcome of a text analysis or classification task. Provide examples of when removing stopwords might be beneficial and when it might not be helpful.\n",
    "   \n",
    "3. **Customization**:\n",
    "   - Imagine you are analyzing a dataset where words like \"data\" and \"science\" appear frequently but add little value to your analysis.\n",
    "     - How would you modify the stopword list in scikit-learn to include additional words that are specific to your task?\n",
    "\n",
    "**Hint:**\n",
    "- Stopwords are commonly used words that do not carry specific meaning in analysis and are often removed to reduce noise in data. Think about examples in real text data where removing words might help highlight important terms.\n",
    "\n"
   ]
  },
  {
   "cell_type": "code",
   "execution_count": 22,
   "metadata": {
    "id": "WwzMUAaqC8QF",
    "outputId": "b800fc53-b468-40d1-d1d3-07b708f20194"
   },
   "outputs": [
    {
     "name": "stdout",
     "output_type": "stream",
     "text": [
      "['a', 'about', 'above', 'across', 'after', 'afterwards', 'again', 'against', 'all', 'almost', 'alone', 'along', 'already', 'also', 'although', 'always', 'am', 'among', 'amongst', 'amoungst', 'amount', 'an', 'and', 'another', 'any', 'anyhow', 'anyone', 'anything', 'anyway', 'anywhere', 'are', 'around', 'as', 'at', 'back', 'be', 'became', 'because', 'become', 'becomes', 'becoming', 'been', 'before', 'beforehand', 'behind', 'being', 'below', 'beside', 'besides', 'between', 'beyond', 'bill', 'both', 'bottom', 'but', 'by', 'call', 'can', 'cannot', 'cant', 'co', 'con', 'could', 'couldnt', 'cry', 'de', 'describe', 'detail', 'do', 'done', 'down', 'due', 'during', 'each', 'eg', 'eight', 'either', 'eleven', 'else', 'elsewhere', 'empty', 'enough', 'etc', 'even', 'ever', 'every', 'everyone', 'everything', 'everywhere', 'except', 'few', 'fifteen', 'fifty', 'fill', 'find', 'fire', 'first', 'five', 'for', 'former', 'formerly', 'forty', 'found', 'four', 'from', 'front', 'full', 'further', 'get', 'give', 'go', 'had', 'has', 'hasnt', 'have', 'he', 'hence', 'her', 'here', 'hereafter', 'hereby', 'herein', 'hereupon', 'hers', 'herself', 'him', 'himself', 'his', 'how', 'however', 'hundred', 'i', 'ie', 'if', 'in', 'inc', 'indeed', 'interest', 'into', 'is', 'it', 'its', 'itself', 'keep', 'last', 'latter', 'latterly', 'least', 'less', 'ltd', 'made', 'many', 'may', 'me', 'meanwhile', 'might', 'mill', 'mine', 'more', 'moreover', 'most', 'mostly', 'move', 'much', 'must', 'my', 'myself', 'name', 'namely', 'neither', 'never', 'nevertheless', 'next', 'nine', 'no', 'nobody', 'none', 'noone', 'nor', 'not', 'nothing', 'now', 'nowhere', 'of', 'off', 'often', 'on', 'once', 'one', 'only', 'onto', 'or', 'other', 'others', 'otherwise', 'our', 'ours', 'ourselves', 'out', 'over', 'own', 'part', 'per', 'perhaps', 'please', 'put', 'rather', 're', 'same', 'see', 'seem', 'seemed', 'seeming', 'seems', 'serious', 'several', 'she', 'should', 'show', 'side', 'since', 'sincere', 'six', 'sixty', 'so', 'some', 'somehow', 'someone', 'something', 'sometime', 'sometimes', 'somewhere', 'still', 'such', 'system', 'take', 'ten', 'than', 'that', 'the', 'their', 'them', 'themselves', 'then', 'thence', 'there', 'thereafter', 'thereby', 'therefore', 'therein', 'thereupon', 'these', 'they', 'thick', 'thin', 'third', 'this', 'those', 'though', 'three', 'through', 'throughout', 'thru', 'thus', 'to', 'together', 'too', 'top', 'toward', 'towards', 'twelve', 'twenty', 'two', 'un', 'under', 'until', 'up', 'upon', 'us', 'very', 'via', 'was', 'we', 'well', 'were', 'what', 'whatever', 'when', 'whence', 'whenever', 'where', 'whereafter', 'whereas', 'whereby', 'wherein', 'whereupon', 'wherever', 'whether', 'which', 'while', 'whither', 'who', 'whoever', 'whole', 'whom', 'whose', 'why', 'will', 'with', 'within', 'without', 'would', 'yet', 'you', 'your', 'yours', 'yourself', 'yourselves']\n"
     ]
    }
   ],
   "source": [
    "# Importing the default list of English stopwords from scikit-learn\n",
    "from sklearn.feature_extraction._stop_words import ENGLISH_STOP_WORDS\n",
    "\n",
    "# write code here\n",
    "stopWords = list(sorted(ENGLISH_STOP_WORDS))\n",
    "print(stopWords)\n",
    "\n",
    "\n",
    "\n",
    "\n",
    "\n"
   ]
  },
  {
   "cell_type": "markdown",
   "metadata": {
    "id": "6LvmGWTtC8QF"
   },
   "source": [
    "### **Question 5: Exploring Text Reduction Using Stemming and Stopwords**\n",
    "\n",
    "**Objective:** Understand the process and effect of stemming and stopword removal in text preprocessing.\n",
    "\n",
    "**Questions:**\n",
    "\n",
    "1. **Stemming and Stopword Removal**:\n",
    "   - Explain what the terms \"stemming\" and \"stopword removal\" mean in the context of text preprocessing. Why are these steps commonly used in natural language processing?\n",
    "\n",
    "2. **Analyzing the Output Matrix**:\n",
    "   - Look at the term-document matrix produced after stemming and stopword removal. Notice that words like \"first,\" \"this,\" and common words (stopwords) have been removed.\n",
    "   - How does stemming affect the words in this matrix? For example, what changes might occur to the word “sentences”?\n",
    "\n",
    "3. **Modifying the Preprocessor**:\n",
    "   - If you wanted to include specific words (such as “first” or “all”) in the analysis despite them being common, how would you modify the `LemmaTokenizer` class to remove these words from the stopword list?\n",
    "\n",
    "4. **Effects on Analysis**:\n",
    "   - Discuss how stemming and stopword removal could impact the analysis, especially when comparing this matrix to one where stopwords and stemming are not applied.\n",
    "\n",
    "**Hints**:\n",
    "- Remember that stemming reduces words to their base forms (e.g., “running” to “run”).\n",
    "- Stopwords are words that are often removed in text analysis because they don’t add unique meaning to the dataset.\n",
    "\n"
   ]
  },
  {
   "cell_type": "code",
   "execution_count": 30,
   "metadata": {
    "id": "ATBljxFzC8QF",
    "outputId": "f374260f-c983-44e2-e6bb-93a75135833c"
   },
   "outputs": [
    {
     "name": "stdout",
     "output_type": "stream",
     "text": [
      "         S1  S2  S3  S4\n",
      "forth     0   0   0   1\n",
      "second    0   1   0   0\n",
      "sentenc   1   1   1   1\n"
     ]
    }
   ],
   "source": [
    "# Importing English stopwords from scikit-learn\n",
    "from sklearn.feature_extraction._stop_words import ENGLISH_STOP_WORDS\n",
    "from nltk import word_tokenize  # Importing word_tokenize for tokenizing the text\n",
    "from nltk.stem.snowball import EnglishStemmer  # Importing the English stemmer for stemming words\n",
    "\n",
    "# Sample text data with mixed casing and punctuation\n",
    "text = [\n",
    "    'this is the first     sentence!! ',   # S1\n",
    "    'this is a second Sentence :)',        # S2\n",
    "    'the third sentence, is here ',        # S3\n",
    "    'forth of all sentences'               # S4\n",
    "]\n",
    "\n",
    "# Create a custom tokenizer class that will apply stemming and remove stopwords\n",
    "# write code here\n",
    "class LemmaTokenizer(object):\n",
    "    def __init__(self):\n",
    "        self.stemmer = EnglishStemmer()\n",
    "        self.stopWords = ENGLISH_STOP_WORDS\n",
    "\n",
    "    def __call__(self, doc):\n",
    "        return [self.stemmer.stem(t) for t in word_tokenize(doc) \n",
    "                if t.isalpha() and t not in self.stopWords]\n",
    "\n",
    "count_vect = CountVectorizer(tokenizer=LemmaTokenizer())\n",
    "counts = count_vect.fit_transform(text)\n",
    "\n",
    "printTermDocumentMatrix(count_vect, counts)"
   ]
  },
  {
   "cell_type": "markdown",
   "metadata": {
    "id": "XMYD-j9OC8QF"
   },
   "source": [
    "\n",
    "### **Question 6: Understanding TF-IDF Matrix for Text Data**\n",
    "\n",
    "**Objective:** Understand how the TF-IDF matrix represents the importance of terms within documents and apply this concept to analyze a sample dataset.\n",
    "\n",
    "**Questions:**\n",
    "\n",
    "1. **Basic Concept**:\n",
    "   - What does the TF-IDF value represent for a term in a specific document?\n",
    "   - Why might a term have a higher TF-IDF value in one document compared to another?\n",
    "\n",
    "2. **Analyzing the Matrix**:\n",
    "   - Look at the values in the TF-IDF matrix for the terms \"first,\" \"sentence,\" and \"here.\"\n",
    "   - Explain why these terms have different TF-IDF scores across sentences S1 to S4.\n",
    "   - Identify any term with the same TF-IDF score across all sentences. What might this indicate about the term’s presence across the sentences?\n",
    "\n",
    "3. **Effects of Parameter Settings**:\n",
    "   - The code specifies `smooth_idf=False` and `norm=None`. Discuss how changing these parameters might affect the TF-IDF values. (Hint: Smoothing helps handle terms that are missing in some documents, and normalization scales TF-IDF values to make comparisons easier.)\n",
    "\n",
    "4. **Real-World Application**:\n",
    "   - Consider how TF-IDF could be helpful in filtering out common but less informative terms in a large dataset. How could this matrix be used in applications like document classification or information retrieval?\n",
    "\n",
    "**Hints**:\n",
    "- Remember, a higher TF-IDF score indicates that a term is more unique to a particular document in the dataset.\n",
    "- Terms that appear in all documents tend to have lower scores, as they are less useful for distinguishing documents from each other.\n"
   ]
  },
  {
   "cell_type": "code",
   "execution_count": null,
   "metadata": {
    "execution": {
     "iopub.execute_input": "2023-06-26T14:23:16.706732Z",
     "iopub.status.busy": "2023-06-26T14:23:16.706298Z",
     "iopub.status.idle": "2023-06-26T14:23:16.715982Z",
     "shell.execute_reply": "2023-06-26T14:23:16.715195Z"
    },
    "id": "T-7h-gAJC8QF",
    "outputId": "e60c53e1-857b-49eb-dbda-230baa759ed7"
   },
   "outputs": [
    {
     "name": "stdout",
     "output_type": "stream",
     "text": [
      "                 S1        S2        S3        S4\n",
      "all        0.000000  0.000000  0.000000  2.386294\n",
      "first      2.386294  0.000000  0.000000  0.000000\n",
      "forth      0.000000  0.000000  0.000000  2.386294\n",
      "here       0.000000  0.000000  2.386294  0.000000\n",
      "is         1.287682  1.287682  1.287682  0.000000\n",
      "of         0.000000  0.000000  0.000000  2.386294\n",
      "second     0.000000  2.386294  0.000000  0.000000\n",
      "sentence   1.287682  1.287682  1.287682  0.000000\n",
      "sentences  0.000000  0.000000  0.000000  2.386294\n",
      "the        1.693147  0.000000  1.693147  0.000000\n",
      "third      0.000000  0.000000  2.386294  0.000000\n",
      "this       1.693147  1.693147  0.000000  0.000000\n"
     ]
    }
   ],
   "source": [
    "# Sample text data with special characters and different formatting\n",
    "text = [\n",
    "    'this is the first     sentence!!',      # S1\n",
    "    'this is a second Sentence :)',          # S2\n",
    "    'the third sentence, is here ',          # S3\n",
    "    'forth of all sentences'                 # S4\n",
    "]\n",
    "# write code here\n",
    "\n",
    "\n",
    "\n",
    "\n",
    "\n",
    "\n",
    "\n",
    "\n",
    "\n"
   ]
  },
  {
   "cell_type": "markdown",
   "metadata": {
    "id": "cNhKc6MRCSdZ"
   },
   "source": [
    "##**Example: Online Discussions on Autos and Electronics**\n",
    "\n",
    "This example6 illustrates a classification task—to classify Internet discussion posts as either auto-related or electronics-related. One post looks like this:\n",
    "\n",
    "From: smith@logos.asd.sgi.com (Tom Smith) Subject: Ford Explorer 4WD - do I need performance axle?\n",
    "\n",
    "We’re considering getting a Ford Explorer XLT with 4WD and we have the following questions (All we would do is go skiing - no off-roading):\n",
    "\n",
    "1. With 4WD, do we need the “performance axle” - (limited slip axle). Its purpose is to allow the tires to act independently when the tires are on different terrain.\n",
    "\n",
    "2. Do we need the all-terrain tires (P235/75X15) or will the all-season (P225/70X15) be good enough for us at Lake Tahoe?\n",
    "\n",
    "Thanks,\n",
    "\n",
    "Tom\n",
    "\n",
    "–\n",
    "\n",
    "================================================\n",
    "\n",
    "Tom Smith Silicon Graphics smith@asd.sgi.com 2011 N. Shoreline Rd. MS 8U-815 415-962-0494 (fax) Mountain View, CA 94043\n",
    "\n",
    "================================================\n",
    "\n",
    "The posts are taken from Internet groups devoted to autos and electronics, so are pre-labeled. This one, clearly, is auto-related. A related organizational scenario might involve messages received by a medical office that must be classified as medical or non-medical (the messages in such a real scenario would probably have to be labeled by humans as part of the preprocessing).\n",
    "\n",
    "The posts are in the form a zipped file that contains two folders: auto posts and electronics posts, each contains a set of 1000 posts organized in small files. In the following, we describe the main steps from preprocessing to building a classification model on the data. Table 20.7 provides Python code for the text processing step for this example. We describe each step separately next.\n",
    "\n"
   ]
  },
  {
   "cell_type": "markdown",
   "metadata": {
    "id": "uypQTgpdC8QF"
   },
   "source": [
    "## Table 20.7 Importing and labeling the records, preprocessing text, and producing concept matrix"
   ]
  },
  {
   "cell_type": "markdown",
   "metadata": {
    "id": "ZhTLzBSvCgfl"
   },
   "source": [
    "The ZipFile module in the standard library of Python is used to read the individual documents in the zipped datafile. We additionally create a label array that corresponds to the order of the documents—we will use “1” for autos and “0” for electronics. The assignment is based on the file path."
   ]
  },
  {
   "cell_type": "code",
   "execution_count": null,
   "metadata": {
    "execution": {
     "iopub.execute_input": "2023-06-26T14:23:16.719290Z",
     "iopub.status.busy": "2023-06-26T14:23:16.718459Z",
     "iopub.status.idle": "2023-06-26T14:23:21.831569Z",
     "shell.execute_reply": "2023-06-26T14:23:21.830637Z"
    },
    "id": "_3NUJ15LC8QF",
    "outputId": "3e03401d-e41e-4ab4-b333-91ec3edb6e03"
   },
   "outputs": [
    {
     "name": "stderr",
     "output_type": "stream",
     "text": [
      "/usr/local/lib/python3.11/site-packages/sklearn/feature_extraction/text.py:528: UserWarning: The parameter 'token_pattern' will not be used since 'tokenizer' is not None'\n",
      "  warnings.warn(\n"
     ]
    }
   ],
   "source": [
    "# Step 1: Import and label records\n",
    "corpus = []  # Initialize a list to store text data from each file\n",
    "label = []   # Initialize a list to store labels for each document (1 for autos, 0 for electronics)\n",
    "\n",
    "# Open the zipped data file containing documents for 'rec.autos' and 'comp.sys.electronics'\n",
    "with ZipFile(dmba.get_data_file('AutoAndElectronics.zip')) as rawData:\n",
    "    for info in rawData.infolist():  # Loop over each file in the archive\n",
    "        if info.is_dir():  # Skip directories, as we only want files\n",
    "            continue\n",
    "        # Assign a label of 1 if the file is from 'rec.autos', otherwise assign 0 (for 'comp.sys.electronics')\n",
    "        label.append(1 if 'rec.autos' in info.filename else 0)\n",
    "        # Read the file content and add it to the corpus list\n",
    "        corpus.append(rawData.read(info))\n",
    "\n",
    "# Step 2: Preprocessing (Tokenization, Stemming, and Stopword Removal)\n",
    "\n",
    "# Define a custom tokenizer class that includes stemming and stopword removal\n",
    "class LemmaTokenizer(object):\n",
    "    def __init__(self):\n",
    "        self.stemmer = EnglishStemmer()  # Initialize an English stemmer for reducing words to their base form\n",
    "        self.stopWords = set(ENGLISH_STOP_WORDS)  # Use a predefined set of English stopwords\n",
    "\n",
    "    def __call__(self, doc):\n",
    "        # Tokenize the document, apply stemming, and remove stopwords and non-alphabetic tokens\n",
    "        return [self.stemmer.stem(t) for t in word_tokenize(doc)\n",
    "                if t.isalpha() and t not in self.stopWords]\n",
    "\n",
    "# Create a CountVectorizer instance with the custom tokenizer and set encoding\n",
    "preprocessor = CountVectorizer(tokenizer=LemmaTokenizer(), encoding='latin1')\n",
    "\n",
    "# Apply the preprocessing steps (tokenization, stopword removal, stemming) and fit-transform the corpus\n",
    "preprocessedText = preprocessor.fit_transform(corpus)\n"
   ]
  },
  {
   "cell_type": "markdown",
   "metadata": {
    "id": "JRMMaSS1FmM-"
   },
   "source": [
    "**Summary of Code Steps:**\n",
    "\n",
    "**1. Data Loading and Labeling:** Extracts and labels each document based on its source ('rec.autos' vs. 'comp.sys.electronics') and reads the document content into a list.\n",
    "\n",
    "**2. Preprocessing:**\n",
    "\n",
    "*   Tokenization: Breaks down documents into individual words.\n",
    "*   Stemming: Reduces words to their root form (e.g., \"cars\" becomes \"car\").\n",
    "*   Stopword Removal: Removes common English stopwords (like \"and\", \"the\") that are often not informative for classification.\n",
    "\n",
    "**3. Vectorization:** Converts the preprocessed text into a structured matrix format (bag-of-words), suitable for further analysis or modeling."
   ]
  },
  {
   "cell_type": "code",
   "execution_count": null,
   "metadata": {
    "execution": {
     "iopub.execute_input": "2023-06-26T14:23:21.834831Z",
     "iopub.status.busy": "2023-06-26T14:23:21.834304Z",
     "iopub.status.idle": "2023-06-26T14:23:22.205310Z",
     "shell.execute_reply": "2023-06-26T14:23:22.204622Z"
    },
    "id": "3qoyHxxLC8QG"
   },
   "outputs": [],
   "source": [
    "# Step 3: TF-IDF and Latent Semantic Analysis (LSA)\n",
    "\n",
    "# Initialize a TF-IDF transformer to convert the count-based term matrix into TF-IDF (Term Frequency-Inverse Document Frequency)\n",
    "tfidfTransformer = TfidfTransformer()\n",
    "tfidf = tfidfTransformer.fit_transform(preprocessedText)\n",
    "# The TF-IDF representation gives higher weight to terms that are significant in a document but less common across the entire corpus.\n",
    "\n",
    "# Initialize TruncatedSVD for dimensionality reduction, targeting 20 latent concepts\n",
    "svd = TruncatedSVD(20)  # Extracts 20 latent \"concepts\" based on word co-occurrences\n",
    "\n",
    "# Initialize a normalizer to ensure that the LSA-transformed vectors have unit length\n",
    "normalizer = Normalizer(copy=False)\n",
    "\n",
    "# Create a pipeline that first applies SVD for dimensionality reduction, then normalizes the result\n",
    "lsa = make_pipeline(svd, normalizer)\n",
    "\n",
    "# Apply the LSA pipeline to the TF-IDF representation to get the transformed LSA feature matrix\n",
    "lsa_tfidf = lsa.fit_transform(tfidf)\n"
   ]
  },
  {
   "cell_type": "markdown",
   "metadata": {
    "id": "shTlk36eGHEA"
   },
   "source": [
    "Here's a breakdown with comments for this additional code:\n",
    "\n",
    "```python\n",
    "# Step 3: TF-IDF and Latent Semantic Analysis (LSA)\n",
    "\n",
    "# Initialize a TF-IDF transformer to convert the count-based term matrix into TF-IDF (Term Frequency-Inverse Document Frequency)\n",
    "tfidfTransformer = TfidfTransformer()\n",
    "tfidf = tfidfTransformer.fit_transform(preprocessedText)\n",
    "# The TF-IDF representation gives higher weight to terms that are significant in a document but less common across the entire corpus.\n",
    "\n",
    "# Initialize TruncatedSVD for dimensionality reduction, targeting 20 latent concepts\n",
    "svd = TruncatedSVD(20)  # Extracts 20 latent \"concepts\" based on word co-occurrences\n",
    "\n",
    "# Initialize a normalizer to ensure that the LSA-transformed vectors have unit length\n",
    "normalizer = Normalizer(copy=False)\n",
    "\n",
    "# Create a pipeline that first applies SVD for dimensionality reduction, then normalizes the result\n",
    "lsa = make_pipeline(svd, normalizer)\n",
    "\n",
    "# Apply the LSA pipeline to the TF-IDF representation to get the transformed LSA feature matrix\n",
    "lsa_tfidf = lsa.fit_transform(tfidf)\n",
    "```\n",
    "\n",
    "### Summary of Code Steps:\n",
    "1. **TF-IDF Transformation**:\n",
    "   - Converts the raw term counts to a TF-IDF matrix, which weighs terms based on their frequency within a document and inversely with their frequency across all documents. This transformation helps to reduce the influence of very common terms and highlights terms that are more informative within each document.\n",
    "\n",
    "2. **Latent Semantic Analysis (LSA)**:\n",
    "   - **Truncated SVD**: Reduces the dimensionality of the TF-IDF matrix by extracting the most significant components (in this case, 20), which represent underlying \"concepts\" in the data.\n",
    "   - **Normalization**: Ensures that each document vector has unit length, which can improve performance in downstream analyses by standardizing the feature magnitudes.\n",
    "   - The resulting `lsa_tfidf` matrix now represents each document in terms of the 20 extracted concepts, capturing underlying patterns in the data while reducing noise and dimensionality."
   ]
  },
  {
   "cell_type": "markdown",
   "metadata": {
    "id": "L4By_TTMC8QG"
   },
   "source": [
    "## Table 20.8 Fitting a predictive model to the autos and electronics discussion data"
   ]
  },
  {
   "cell_type": "code",
   "execution_count": null,
   "metadata": {
    "execution": {
     "iopub.execute_input": "2023-06-26T14:23:22.207918Z",
     "iopub.status.busy": "2023-06-26T14:23:22.207602Z",
     "iopub.status.idle": "2023-06-26T14:23:22.230604Z",
     "shell.execute_reply": "2023-06-26T14:23:22.230168Z"
    },
    "id": "bL9Ry1QnC8QG",
    "outputId": "3b79dee8-3945-4a37-caa8-7c8df8bcdd61"
   },
   "outputs": [
    {
     "name": "stdout",
     "output_type": "stream",
     "text": [
      "Confusion Matrix (Accuracy 0.9563)\n",
      "\n",
      "       Prediction\n",
      "Actual   0   1\n",
      "     0 388   9\n",
      "     1  26 377\n"
     ]
    }
   ],
   "source": [
    "# Step 1: Split dataset into training and test sets\n",
    "# Use a 60/40 split, where 60% of the data is used for training and 40% for testing\n",
    "Xtrain, Xtest, ytrain, ytest = train_test_split(lsa_tfidf, label, test_size=0.4, random_state=42)\n",
    "# Here, `lsa_tfidf` represents the feature matrix with LSA-transformed data, and `label` contains the target labels.\n",
    "# `random_state=42` ensures reproducibility of the split.\n",
    "\n",
    "# Step 2: Train a logistic regression model on the training data\n",
    "logit_reg = LogisticRegression(solver='lbfgs')  # Initialize logistic regression with the 'lbfgs' solver (recommended for smaller datasets)\n",
    "logit_reg.fit(Xtrain, ytrain)  # Fit the model to the training data\n",
    "\n",
    "# Step 3: Evaluate model performance on the test set\n",
    "# Print the confusion matrix and accuracy to assess the model's performance\n",
    "classificationSummary(ytest, logit_reg.predict(Xtest))\n",
    "# `classificationSummary` provides a summary including the confusion matrix and accuracy,\n",
    "# helping to understand how well the model performs on the test data by showing true positives, false positives, etc.\n"
   ]
  },
  {
   "cell_type": "markdown",
   "metadata": {
    "id": "6ovdl7_3GeaO"
   },
   "source": [
    "Here's a breakdown with comments for the code that fits a predictive model (logistic regression) to the autos and electronics discussion data, including splitting the dataset, training the model, and evaluating its performance:\n",
    "\n",
    "```python\n",
    "# Step 1: Split dataset into training and test sets\n",
    "# Use a 60/40 split, where 60% of the data is used for training and 40% for testing\n",
    "Xtrain, Xtest, ytrain, ytest = train_test_split(lsa_tfidf, label, test_size=0.4, random_state=42)\n",
    "# Here, `lsa_tfidf` represents the feature matrix with LSA-transformed data, and `label` contains the target labels.\n",
    "# `random_state=42` ensures reproducibility of the split.\n",
    "\n",
    "# Step 2: Train a logistic regression model on the training data\n",
    "logit_reg = LogisticRegression(solver='lbfgs')  # Initialize logistic regression with the 'lbfgs' solver (recommended for smaller datasets)\n",
    "logit_reg.fit(Xtrain, ytrain)  # Fit the model to the training data\n",
    "\n",
    "# Step 3: Evaluate model performance on the test set\n",
    "# Print the confusion matrix and accuracy to assess the model's performance\n",
    "classificationSummary(ytest, logit_reg.predict(Xtest))\n",
    "# `classificationSummary` provides a summary including the confusion matrix and accuracy,\n",
    "# helping to understand how well the model performs on the test data by showing true positives, false positives, etc.\n",
    "```\n",
    "\n",
    "### Summary of Code Steps:\n",
    "1. **Data Splitting**:\n",
    "   - The dataset is divided into a training set (60%) and a test set (40%) to train and evaluate the model separately. This split ensures that the model's performance can be tested on unseen data, giving an unbiased estimate of its accuracy.\n",
    "\n",
    "2. **Model Training**:\n",
    "   - A logistic regression model is initialized and trained on the LSA-transformed training data (`Xtrain`). Logistic regression is suitable for binary classification tasks like this one (autos vs. electronics discussion).\n",
    "\n",
    "3. **Model Evaluation**:\n",
    "   - The model’s predictions on the test set (`Xtest`) are compared with the actual labels (`ytest`) using `classificationSummary`, which prints the confusion matrix and accuracy. The confusion matrix helps in analyzing true positives, true negatives, false positives, and false negatives, while accuracy provides an overall measure of performance."
   ]
  },
  {
   "cell_type": "code",
   "execution_count": null,
   "metadata": {
    "execution": {
     "iopub.execute_input": "2023-06-26T14:23:22.233931Z",
     "iopub.status.busy": "2023-06-26T14:23:22.233420Z",
     "iopub.status.idle": "2023-06-26T14:23:22.745724Z",
     "shell.execute_reply": "2023-06-26T14:23:22.744670Z"
    },
    "id": "vcRw2ThEC8QG",
    "outputId": "69003b37-1e82-4192-97cd-3e4b143b99b4"
   },
   "outputs": [
    {
     "data": {
      "image/png": "[encoded data removed]",
      "text/plain": [
       "<Figure size 640x480 with 1 Axes>"
      ]
     },
     "metadata": {},
     "output_type": "display_data"
    }
   ],
   "source": [
    "# Create a DataFrame with predicted probabilities and actual labels\n",
    "df = pd.DataFrame(data={\n",
    "    'prob': [p[1] for p in logit_reg.predict_proba(Xtest)],  # Extract the probability of the positive class\n",
    "    'actual': ytest  # Actual test labels\n",
    "})\n",
    "# Sort the DataFrame by predicted probability in descending order\n",
    "df = df.sort_values(by=['prob'], ascending=False).reset_index(drop=True)\n",
    "\n",
    "# Plot the lift chart using the sorted DataFrame\n",
    "ax = liftChart(df.actual, labelBars=False)  # `labelBars=False` suppresses labels on the bars in the chart\n",
    "\n",
    "# Improve layout and display the plot\n",
    "plt.tight_layout()\n",
    "plt.show()\n"
   ]
  },
  {
   "cell_type": "markdown",
   "metadata": {
    "id": "9hLb2RVxGruL"
   },
   "source": [
    "Here’s an explanation and breakdown of this code, which generates a lift chart for evaluating the performance of the logistic regression model:\n",
    "\n",
    "```python\n",
    "# Create a DataFrame with predicted probabilities and actual labels\n",
    "df = pd.DataFrame(data={\n",
    "    'prob': [p[1] for p in logit_reg.predict_proba(Xtest)],  # Extract the probability of the positive class\n",
    "    'actual': ytest  # Actual test labels\n",
    "})\n",
    "# Sort the DataFrame by predicted probability in descending order\n",
    "df = df.sort_values(by=['prob'], ascending=False).reset_index(drop=True)\n",
    "\n",
    "# Plot the lift chart using the sorted DataFrame\n",
    "ax = liftChart(df.actual, labelBars=False)  # `labelBars=False` suppresses labels on the bars in the chart\n",
    "\n",
    "# Improve layout and display the plot\n",
    "plt.tight_layout()\n",
    "plt.show()\n",
    "```\n",
    "\n",
    "### Explanation of Each Step:\n",
    "\n",
    "1. **Data Preparation**:\n",
    "   - `df = pd.DataFrame(data={'prob': [p[1] for p in logit_reg.predict_proba(Xtest)], 'actual': ytest})`:\n",
    "     - The `predict_proba` method of the logistic regression model (`logit_reg`) returns the probabilities for each class (in this case, `[p[1] for p in logit_reg.predict_proba(Xtest)]` extracts the probability of the positive class).\n",
    "     - This probability and the actual labels from `ytest` are stored in a new DataFrame, `df`, with columns `'prob'` and `'actual'`.\n",
    "\n",
    "2. **Sorting**:\n",
    "   - `df = df.sort_values(by=['prob'], ascending=False).reset_index(drop=True)`:\n",
    "     - The DataFrame `df` is sorted in descending order based on the predicted probability (`prob`), so that the instances with the highest predicted probability are at the top.\n",
    "     - The index is reset after sorting to maintain sequential indexing.\n",
    "\n",
    "3. **Lift Chart**:\n",
    "   - `ax = liftChart(df.actual, labelBars=False)`:\n",
    "     - The `liftChart` function (assuming it’s defined or imported from a library) plots the lift chart, which visualizes the model’s ability to capture the positive class effectively. It shows how well the model’s predictions perform compared to a random selection.\n",
    "\n",
    "4. **Displaying the Plot**:\n",
    "   - `plt.tight_layout()` ensures there is appropriate spacing in the layout.\n",
    "   - `plt.show()` displays the final lift chart.\n",
    "\n",
    "### Purpose of a Lift Chart:\n",
    "A lift chart helps assess the model’s effectiveness by showing how much better the model performs in identifying positive cases than a random model. This is particularly useful in cases where identifying a certain class (e.g., high-risk customers) is critical. The chart ranks instances by their predicted probability and provides insights into the model’s effectiveness at various probability thresholds."
   ]
  }
 ],
 "metadata": {
  "colab": {
   "provenance": []
  },
  "kernelspec": {
   "display_name": "Python 3 (ipykernel)",
   "language": "python",
   "name": "python3"
  },
  "language_info": {
   "codemirror_mode": {
    "name": "ipython",
    "version": 3
   },
   "file_extension": ".py",
   "mimetype": "text/x-python",
   "name": "python",
   "nbconvert_exporter": "python",
   "pygments_lexer": "ipython3",
   "version": "3.12.3"
  }
 },
 "nbformat": 4,
 "nbformat_minor": 4
}
