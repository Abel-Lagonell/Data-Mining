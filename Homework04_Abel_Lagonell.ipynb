{
  "nbformat": 4,
  "nbformat_minor": 0,
  "metadata": {
    "colab": {
      "provenance": [],
      "authorship_tag": "ABX9TyOU+9CpXM/zlsuYetXj0c7o",
      "include_colab_link": true
    },
    "kernelspec": {
      "name": "python3",
      "display_name": "Python 3"
    },
    "language_info": {
      "name": "python"
    }
  },
  "cells": [
    {
      "cell_type": "markdown",
      "metadata": {
        "id": "view-in-github",
        "colab_type": "text"
      },
      "source": [
        "<a href=\"https://colab.research.google.com/github/Abel-Lagonell/Data-Mining/blob/main/Homework04_Abel_Lagonell.ipynb\" target=\"_parent\"><img src=\"https://colab.research.google.com/assets/colab-badge.svg\" alt=\"Open In Colab\"/></a>"
      ]
    },
    {
      "cell_type": "code",
      "source": [
        "%pip install dmba\n",
        "\n",
        "import dmba\n",
        "from dmba import printTermDocumentMatrix\n",
        "\n",
        "import sklearn.feature_extraction.text as text\n",
        "from sklearn.feature_extraction._stop_words import ENGLISH_STOP_WORDS\n",
        "\n",
        "import numpy as np\n",
        "import pandas as pd\n",
        "import matplotlib.pyplot as plt\n",
        "import seaborn as sns\n",
        "\n",
        "import nltk\n",
        "from nltk import word_tokenize\n",
        "from nltk.stem.snowball import EnglishStemmer\n",
        "from nltk.sentiment import SentimentIntensityAnalyzer\n",
        "nltk.download('punkt')\n",
        "nltk.download('averaged_perceptron_tagger')\n",
        "nltk.download('vader_lexicon')\n",
        "nltk.download('stopwords')\n",
        "nltk.download('punkt_tab')"
      ],
      "metadata": {
        "colab": {
          "base_uri": "https://localhost:8080/"
        },
        "id": "mbim4HThbOaM",
        "outputId": "6ef2271b-38e8-4e7e-e332-782c5a7f476b"
      },
      "execution_count": 13,
      "outputs": [
        {
          "output_type": "stream",
          "name": "stdout",
          "text": [
            "Requirement already satisfied: dmba in /usr/local/lib/python3.10/dist-packages (0.2.4)\n",
            "Requirement already satisfied: graphviz in /usr/local/lib/python3.10/dist-packages (from dmba) (0.20.3)\n",
            "Requirement already satisfied: matplotlib in /usr/local/lib/python3.10/dist-packages (from dmba) (3.8.0)\n",
            "Requirement already satisfied: numpy in /usr/local/lib/python3.10/dist-packages (from dmba) (1.26.4)\n",
            "Requirement already satisfied: pandas in /usr/local/lib/python3.10/dist-packages (from dmba) (2.2.2)\n",
            "Requirement already satisfied: scikit-learn in /usr/local/lib/python3.10/dist-packages (from dmba) (1.5.2)\n",
            "Requirement already satisfied: scipy in /usr/local/lib/python3.10/dist-packages (from dmba) (1.13.1)\n",
            "Requirement already satisfied: contourpy>=1.0.1 in /usr/local/lib/python3.10/dist-packages (from matplotlib->dmba) (1.3.0)\n",
            "Requirement already satisfied: cycler>=0.10 in /usr/local/lib/python3.10/dist-packages (from matplotlib->dmba) (0.12.1)\n",
            "Requirement already satisfied: fonttools>=4.22.0 in /usr/local/lib/python3.10/dist-packages (from matplotlib->dmba) (4.54.1)\n",
            "Requirement already satisfied: kiwisolver>=1.0.1 in /usr/local/lib/python3.10/dist-packages (from matplotlib->dmba) (1.4.7)\n",
            "Requirement already satisfied: packaging>=20.0 in /usr/local/lib/python3.10/dist-packages (from matplotlib->dmba) (24.2)\n",
            "Requirement already satisfied: pillow>=6.2.0 in /usr/local/lib/python3.10/dist-packages (from matplotlib->dmba) (11.0.0)\n",
            "Requirement already satisfied: pyparsing>=2.3.1 in /usr/local/lib/python3.10/dist-packages (from matplotlib->dmba) (3.2.0)\n",
            "Requirement already satisfied: python-dateutil>=2.7 in /usr/local/lib/python3.10/dist-packages (from matplotlib->dmba) (2.8.2)\n",
            "Requirement already satisfied: pytz>=2020.1 in /usr/local/lib/python3.10/dist-packages (from pandas->dmba) (2024.2)\n",
            "Requirement already satisfied: tzdata>=2022.7 in /usr/local/lib/python3.10/dist-packages (from pandas->dmba) (2024.2)\n",
            "Requirement already satisfied: joblib>=1.2.0 in /usr/local/lib/python3.10/dist-packages (from scikit-learn->dmba) (1.4.2)\n",
            "Requirement already satisfied: threadpoolctl>=3.1.0 in /usr/local/lib/python3.10/dist-packages (from scikit-learn->dmba) (3.5.0)\n",
            "Requirement already satisfied: six>=1.5 in /usr/local/lib/python3.10/dist-packages (from python-dateutil>=2.7->matplotlib->dmba) (1.16.0)\n"
          ]
        },
        {
          "output_type": "stream",
          "name": "stderr",
          "text": [
            "[nltk_data] Downloading package punkt to /root/nltk_data...\n",
            "[nltk_data]   Package punkt is already up-to-date!\n",
            "[nltk_data] Downloading package averaged_perceptron_tagger to\n",
            "[nltk_data]     /root/nltk_data...\n",
            "[nltk_data]   Package averaged_perceptron_tagger is already up-to-\n",
            "[nltk_data]       date!\n",
            "[nltk_data] Downloading package vader_lexicon to /root/nltk_data...\n",
            "[nltk_data]   Package vader_lexicon is already up-to-date!\n",
            "[nltk_data] Downloading package stopwords to /root/nltk_data...\n",
            "[nltk_data]   Unzipping corpora/stopwords.zip.\n",
            "[nltk_data] Downloading package punkt_tab to /root/nltk_data...\n",
            "[nltk_data]   Unzipping tokenizers/punkt_tab.zip.\n"
          ]
        },
        {
          "output_type": "execute_result",
          "data": {
            "text/plain": [
              "True"
            ]
          },
          "metadata": {},
          "execution_count": 13
        }
      ]
    },
    {
      "cell_type": "markdown",
      "source": [
        "# Question 1"
      ],
      "metadata": {
        "id": "dSAvYzblYlpt"
      }
    },
    {
      "cell_type": "code",
      "source": [
        "def plot_word_freq(vector, count, width=10):\n",
        "    plt.figure(figsize=(width, 2))\n",
        "    plt.bar(vector.get_feature_names_out(), np.ravel(count.sum(axis=0)))\n",
        "    plt.show()\n",
        "\n",
        "sample_text = \"The laptop was difficult to set up, and difficult to connect to the WIFI. I would go back to using the previous laptop except it no longer charges.\"\n",
        "\n",
        "#A\n",
        "word_tokens = nltk.word_tokenize(sample_text)\n",
        "for i, word in enumerate(word_tokens):\n",
        "    if i%10 == 9: print('\\n')\n",
        "    print(word, end=', ')\n",
        "print('-------------------------------------\\n')\n",
        "#B: Determine and plot the word frequency for the sample text.\n",
        "count_vector = text.CountVectorizer()\n",
        "count = count_vector.fit_transform([sample_text])\n",
        "plot_word_freq(count_vector, count, width=15)\n",
        "print('-------------------------------------\\n')\n",
        "#C\n",
        "count_vector = text.CountVectorizer(stop_words='english')\n",
        "count = count_vector.fit_transform([sample_text])\n",
        "plot_word_freq(count_vector, count, width=7)\n",
        "print('-------------------------------------\\n')\n",
        "#D\n",
        "class LemmaTokenizer(object):\n",
        "    def __init__(self):\n",
        "        self.stemmer = EnglishStemmer()\n",
        "        self.stopWords = ENGLISH_STOP_WORDS\n",
        "        self.nouns = ['NN', 'NNS', 'NNP', 'NNPS']\n",
        "\n",
        "    def __call__(self, doc):\n",
        "        return [self.stemmer.stem(t) for t in word_tokenize(doc)\n",
        "                if t.isalpha() and t not in self.stopWords and nltk.pos_tag([t])[0][1] in self.nouns]\n",
        "\n",
        "count_vector = text.CountVectorizer(tokenizer=LemmaTokenizer())\n",
        "count = count_vector.fit_transform([sample_text])\n",
        "plot_word_freq(count_vector, count, width=5)\n",
        "print('-------------------------------------\\n')\n",
        "#E\n",
        "sentiment = SentimentIntensityAnalyzer()\n",
        "print(sentiment.polarity_scores(sample_text))"
      ],
      "metadata": {
        "colab": {
          "base_uri": "https://localhost:8080/",
          "height": 868
        },
        "id": "lIv0jHh2ZoW1",
        "outputId": "3f49a15c-db23-4d78-a0c5-8a9e4f55145f"
      },
      "execution_count": null,
      "outputs": [
        {
          "output_type": "stream",
          "name": "stdout",
          "text": [
            "The, laptop, was, difficult, to, set, up, ,, and, \n",
            "\n",
            "difficult, to, connect, to, the, WIFI, ., I, would, go, \n",
            "\n",
            "back, to, using, the, previous, laptop, except, it, no, longer, \n",
            "\n",
            "charges, ., -------------------------------------\n",
            "\n"
          ]
        },
        {
          "output_type": "display_data",
          "data": {
            "text/plain": [
              "<Figure size 1500x200 with 1 Axes>"
            ],
            "image/png": "[encoded data removed]"
          },
          "metadata": {}
        },
        {
          "output_type": "stream",
          "name": "stdout",
          "text": [
            "-------------------------------------\n",
            "\n"
          ]
        },
        {
          "output_type": "display_data",
          "data": {
            "text/plain": [
              "<Figure size 700x200 with 1 Axes>"
            ],
            "image/png": "[encoded data removed]"
          },
          "metadata": {}
        },
        {
          "output_type": "stream",
          "name": "stdout",
          "text": [
            "-------------------------------------\n",
            "\n"
          ]
        },
        {
          "output_type": "display_data",
          "data": {
            "text/plain": [
              "<Figure size 500x200 with 1 Axes>"
            ],
            "image/png": "[encoded data removed]"
          },
          "metadata": {}
        },
        {
          "output_type": "stream",
          "name": "stdout",
          "text": [
            "-------------------------------------\n",
            "\n",
            "{'neg': 0.288, 'neu': 0.712, 'pos': 0.0, 'compound': -0.8074}\n"
          ]
        }
      ]
    },
    {
      "cell_type": "markdown",
      "source": [
        "# Question 2"
      ],
      "metadata": {
        "id": "-x1b9MAJmy1I"
      }
    },
    {
      "cell_type": "code",
      "source": [
        "sample_text = r\"\"\"Thanks John!<br /><br /><font size=”3”>\n",
        "&quot;Illustrations and demos will be\n",
        "provided for students to work through on\n",
        "their own&quot;</font>.\n",
        "Do we need that to finish project? If yes,\n",
        "where to find the illustration and demos?\n",
        "Thanks for your help.\\<img title=”smile”\n",
        "alt=”smile” src=”\\url{http://lms.statistics.com/pix/smartpix.php/statistics_com_1/s/smiley.gif}” \\>\n",
        "<br /> <br />\n",
        "\"\"\"\n",
        "\n",
        "# A\n",
        "tokens = word_tokenize(sample_text)\n",
        "non_words = [word for word in tokens if not word.isalpha()]\n",
        "for i, word in enumerate(non_words):\n",
        "    if i%11 == 10: print('\\n')\n",
        "    print(word, end='  ')\n",
        "print('-------------------------------------\\n')\n",
        "# B\n",
        "# We can remove all html tokens such as <, >, alt=, we can also remove anything between angle brackets\n",
        "# C\n",
        "# Words that we want are Demos, provided, project, help, illustration, find\n",
        "# D\n",
        "# Bag of words just get the different words and lose the bigger picture meaning of the actual text."
      ],
      "metadata": {
        "colab": {
          "base_uri": "https://localhost:8080/"
        },
        "id": "rBRnOp_pm3FW",
        "outputId": "25e51584-6e36-48b3-f2bd-3a1b2a00ec4c"
      },
      "execution_count": null,
      "outputs": [
        {
          "output_type": "stream",
          "name": "stdout",
          "text": [
            "!  <  /  >  <  /  >  <  size=  ”  \n",
            "\n",
            "3  ”  >  &  ;  &  ;  <  /font  >  .  \n",
            "\n",
            "?  ,  ?  help.\\  <  title=  ”  ”  alt=  ”  ”  \n",
            "\n",
            "src=  ”  \\url  {  :  //lms.statistics.com/pix/smartpix.php/statistics_com_1/s/smiley.gif  }  ”  \\  >  <  \n",
            "\n",
            "/  >  <  /  >  "
          ]
        }
      ]
    },
    {
      "cell_type": "markdown",
      "source": [
        "# Question 3"
      ],
      "metadata": {
        "id": "bRyvtdYXPApY"
      }
    },
    {
      "cell_type": "code",
      "source": [
        "import numpy as np\n",
        "from zipfile import ZipFile\n",
        "from sklearn.feature_extraction.text import TfidfVectorizer\n",
        "from sklearn.decomposition import TruncatedSVD\n",
        "from sklearn.linear_model import LogisticRegression\n",
        "from sklearn.model_selection import train_test_split\n",
        "from sklearn.metrics import accuracy_score, precision_score, recall_score, f1_score\n",
        "\n",
        "# A) Load the data\n",
        "corpus = []\n",
        "labels = []\n",
        "\n",
        "with ZipFile(dmba.get_data_file('AutoAndElectronics.zip')) as rawData:\n",
        "    for info in rawData.infolist():\n",
        "        if info.is_dir():\n",
        "            continue\n",
        "        labels.append(1 if 'rec.autos' in info.filename else 0)\n",
        "        try:\n",
        "            corpus.append(rawData.read(info).decode('utf-8'))\n",
        "        except UnicodeDecodeError:\n",
        "            corpus.append(rawData.read(info).decode('latin-1'))\n",
        "\n",
        "# B) Preprocess the documents\n",
        "from nltk.corpus import stopwords\n",
        "from nltk.stem.porter import PorterStemmer\n",
        "\n",
        "stop_words = set(stopwords.words('english'))\n",
        "stemmer = PorterStemmer()\n",
        "\n",
        "tokens = [[stemmer.stem(word) for word in word_tokenize(doc) if word.isalpha() and word not in stop_words] for doc in corpus]\n",
        "X = tokens\n",
        "\n",
        "# C) Create the concept matrix using LSA\n",
        "tfidf = TfidfVectorizer()\n",
        "X_tfidf = tfidf.fit_transform(corpus)\n",
        "\n",
        "lsa = TruncatedSVD(n_components=10)\n",
        "X_concepts = lsa.fit_transform(X_tfidf)\n",
        "\n",
        "# D) Train a classification model\n",
        "X_train, X_test, y_train, y_test = train_test_split(X_concepts, labels, test_size=0.4, random_state=42)\n",
        "\n",
        "clf = LogisticRegression()\n",
        "clf.fit(X_train, y_train)\n",
        "\n",
        "y_pred = clf.predict(X_test)\n",
        "\n",
        "# E) Evaluate the model\n",
        "print(f'Accuracy: {accuracy_score(y_test, y_pred):.2f}')\n",
        "print(f'Precision: {precision_score(y_test, y_pred):.2f}')\n",
        "print(f'Recall: {recall_score(y_test, y_pred):.2f}')\n",
        "print(f'F1-score: {f1_score(y_test, y_pred):.2f}')\n"
      ],
      "metadata": {
        "colab": {
          "base_uri": "https://localhost:8080/"
        },
        "id": "-w0etlTEPCGf",
        "outputId": "7e96c05a-1208-4120-fe6c-b1017b509966"
      },
      "execution_count": 52,
      "outputs": [
        {
          "output_type": "stream",
          "name": "stdout",
          "text": [
            "Accuracy: 0.92\n",
            "Precision: 0.95\n",
            "Recall: 0.89\n",
            "F1-score: 0.92\n"
          ]
        }
      ]
    },
    {
      "cell_type": "markdown",
      "source": [
        "#Question 4"
      ],
      "metadata": {
        "id": "mMxDHvzfepMg"
      }
    },
    {
      "cell_type": "code",
      "source": [
        "import numpy as np\n",
        "from sklearn.feature_extraction.text import TfidfVectorizer\n",
        "from sklearn.decomposition import TruncatedSVD\n",
        "from sklearn.linear_model import LogisticRegression\n",
        "from sklearn.model_selection import train_test_split\n",
        "from sklearn.metrics import accuracy_score, precision_score, recall_score, f1_score\n",
        "\n",
        "# A) Load the data\n",
        "df = dmba.load_data('farm-ads.csv', header=None)\n",
        "X = df[1].tolist()\n",
        "y = df[0].tolist()\n",
        "\n",
        "# B) Preprocess the data\n",
        "from nltk.corpus import stopwords\n",
        "from nltk.stem.porter import PorterStemmer\n",
        "\n",
        "stop_words = set(stopwords.words('english'))\n",
        "stemmer = PorterStemmer()\n",
        "\n",
        "tokens = [[stemmer.stem(word) for word in word_tokenize(doc) if word.isalpha() and word not in stop_words] for doc in X]\n",
        "X_preprocessed = tokens\n",
        "\n",
        "# C) Examine the term-document matrix\n",
        "tfidf = TfidfVectorizer()\n",
        "X_tfidf = tfidf.fit_transform(X)\n",
        "\n",
        "print(f'The term-document matrix is {\"dense\" if X_tfidf.getnnz() / X_tfidf.size > 0.5 else \"sparse\"}.')\n",
        "\n",
        "# Find two non-zero entries and interpret their meaning\n",
        "doc_idx = 0\n",
        "word_idx = 1\n",
        "print(f'The entry at (doc={doc_idx}, word={tfidf.get_feature_names_out()[word_idx]}) has value {X_tfidf[doc_idx, word_idx]:.2f}.')\n",
        "print(f'This indicates that the word \"{tfidf.get_feature_names_out()[word_idx]}\" appears in document {doc_idx} with a weighted frequency of {X_tfidf[doc_idx, word_idx]:.2f}.')\n",
        "\n",
        "# D) Concept-document matrix vs term-document matrix\n",
        "lsa = TruncatedSVD(n_components=20)\n",
        "X_concepts = lsa.fit_transform(X_tfidf)\n",
        "\n",
        "print('The concept-document matrix represents the documents in a lower-dimensional space, where each column corresponds to a latent concept extracted from the text data. This is similar to the principal components in PCA, where the columns represent the directions of maximum variance in the data.')\n",
        "\n",
        "# E) Train a classification model\n",
        "X_train, X_test, y_train, y_test = train_test_split(X_concepts, y, test_size=0.4, random_state=42)\n",
        "\n",
        "clf = LogisticRegression()\n",
        "clf.fit(X_train, y_train)\n",
        "\n",
        "y_pred = clf.predict(X_test)\n",
        "\n",
        "print(f'Accuracy: {accuracy_score(y_test, y_pred):.2f}')\n",
        "print(f'Precision: {precision_score(y_test, y_pred):.2f}')\n",
        "print(f'Recall: {recall_score(y_test, y_pred):.2f}')\n",
        "print(f'F1-score: {f1_score(y_test, y_pred):.2f}')\n",
        "\n",
        "print(\"Its able to differentiate the different true value pretty well but when it comes to getting negative values it doesnt do as well singling them out\")\n",
        "print(\"Concept Matrix will provide connections to various things allowing for better prediction of what class is going to be. Just giving frequencies wouldn't be as powerful of a tool as it just gives the amount with no other information\")"
      ],
      "metadata": {
        "id": "Vj36sx_aeq5S",
        "outputId": "2f34167b-35bf-45f6-c6a9-87175569532c",
        "colab": {
          "base_uri": "https://localhost:8080/"
        }
      },
      "execution_count": 55,
      "outputs": [
        {
          "output_type": "stream",
          "name": "stdout",
          "text": [
            "The term-document matrix is dense.\n",
            "The entry at (doc=0, word=aaa) has value 0.30.\n",
            "This indicates that the word \"aaa\" appears in document 0 with a weighted frequency of 0.30.\n",
            "The concept-document matrix represents the documents in a lower-dimensional space, where each column corresponds to a latent concept extracted from the text data. This is similar to the principal components in PCA, where the columns represent the directions of maximum variance in the data.\n",
            "Accuracy: 0.85\n",
            "Precision: 0.82\n",
            "Recall: 0.92\n",
            "F1-score: 0.87\n"
          ]
        }
      ]
    },
    {
      "cell_type": "markdown",
      "source": [
        "# Question 5"
      ],
      "metadata": {
        "id": "YnRX5YgOjDvC"
      }
    },
    {
      "cell_type": "code",
      "source": [
        "import numpy as np\n",
        "from zipfile import ZipFile\n",
        "from nltk.corpus import stopwords\n",
        "from nltk.stem.porter import PorterStemmer\n",
        "from sklearn.feature_extraction.text import TfidfVectorizer\n",
        "from sklearn.decomposition import TruncatedSVD\n",
        "from sklearn.cluster import AgglomerativeClustering, KMeans\n",
        "\n",
        "# A) Preprocess the auto-related posts\n",
        "corpus = []\n",
        "with ZipFile(dmba.get_data_file('AutoAndElectronics.zip')) as rawData:\n",
        "    for info in rawData.infolist():\n",
        "        if info.is_dir() or 'rec.autos' not in info.filename:\n",
        "            continue\n",
        "        try:\n",
        "            corpus.append(rawData.read(info).decode('utf-8'))\n",
        "        except UnicodeDecodeError:\n",
        "            corpus.append(rawData.read(info).decode('latin-1'))\n",
        "\n",
        "stop_words = set(stopwords.words('english'))\n",
        "stemmer = PorterStemmer()\n",
        "\n",
        "tokens = [[stemmer.stem(word) for word in word_tokenize(doc) if word.isalpha() and word not in stop_words] for doc in corpus]\n",
        "X = tokens\n",
        "\n",
        "# B) Apply Latent Semantic Analysis (LSA)\n",
        "tfidf = TfidfVectorizer()\n",
        "X_tfidf = tfidf.fit_transform(corpus)\n",
        "\n",
        "lsa = TruncatedSVD(n_components=10)\n",
        "X_concepts = lsa.fit_transform(X_tfidf)\n",
        "\n",
        "# C) Estimate the number of natural clusters\n",
        "# Based on the domain knowledge, I expect around 5-10 natural clusters in the auto-related posts\n",
        "print(f'Estimated number of natural clusters: 5-10')\n",
        "\n",
        "# D) Perform hierarchical clustering and inspect the dendrogram\n",
        "from scipy.cluster.hierarchy import dendrogram, linkage\n",
        "import matplotlib.pyplot as plt\n",
        "\n",
        "linkage_matrix = linkage(X_concepts, 'ward')\n",
        "plt.figure(figsize=(12, 6))\n",
        "dendrogram(linkage_matrix)\n",
        "plt.title('Hierarchical Clustering Dendrogram')\n",
        "plt.xlabel('Document index')\n",
        "plt.ylabel('Distance')\n",
        "plt.show()\n"
      ],
      "metadata": {
        "id": "INvy38JRjE7k",
        "outputId": "644b84b6-457e-4530-8c3a-fdba9559aeea",
        "colab": {
          "base_uri": "https://localhost:8080/",
          "height": 582
        }
      },
      "execution_count": 58,
      "outputs": [
        {
          "output_type": "stream",
          "name": "stdout",
          "text": [
            "Estimated number of natural clusters: 5-10\n"
          ]
        },
        {
          "output_type": "display_data",
          "data": {
            "text/plain": [
              "<Figure size 1200x600 with 1 Axes>"
            ],
            "image/png": "[encoded data removed]"
          },
          "metadata": {}
        }
      ]
    },
    {
      "cell_type": "code",
      "source": [
        "# E) Determine the number of natural clusters from the dendrogram\n",
        "# The dendrogram suggests around 6 natural clusters in the data because of the 6 different cluster colors\n",
        "\n",
        "# F) Examine a sub-cluster\n",
        "cluster_labels = AgglomerativeClustering(n_clusters=6, linkage='ward').fit_predict(X_concepts)\n",
        "sub_cluster = [corpus[i] for i in range(len(corpus)) if cluster_labels[i] == 2]\n",
        "\n",
        "print('Sub-cluster characteristics:')\n",
        "for post in sub_cluster[:3]:\n",
        "    print(post, '\\n')\n",
        "\n",
        "print(\"They seem to be around in April of the same year, some have a heading of the eternal champion, both from the news group rec.autos\")\n",
        "\n",
        "# G) Perform k-means clustering\n",
        "kmeans = KMeans(n_clusters=2, random_state=42)\n",
        "y_pred = kmeans.fit_predict(X_concepts)\n",
        "\n",
        "between_cluster_distance = np.sqrt(kmeans.inertia_)\n",
        "within_cluster_dispersion = np.mean(kmeans.transform(X_concepts))\n",
        "\n",
        "print(f'Between-cluster distance: {between_cluster_distance:.2f}')\n",
        "print(f'Within-cluster dispersion: {within_cluster_dispersion:.2f}')\n",
        "print('The clusters are reasonably well-separated, and within clusters seem to bunched up too.')"
      ],
      "metadata": {
        "id": "il3W5Lv0kbUT",
        "outputId": "50e4bc9b-b2ee-419d-84c0-f7306d1adb53",
        "colab": {
          "base_uri": "https://localhost:8080/"
        }
      },
      "execution_count": 62,
      "outputs": [
        {
          "output_type": "stream",
          "name": "stdout",
          "text": [
            "Sub-cluster characteristics:\n",
            "Path: cantaloupe.srv.cs.cmu.edu!rochester!cornell!batcomputer!caen!zaphod.mps.ohio-state.edu!malgudi.oar.net!news.ysu.edu!yfn.ysu.edu!ak296\n",
            "From: ak296@yfn.ysu.edu (John R. Daker)\n",
            "Newsgroups: rec.autos\n",
            "Subject: Toyota wagons\n",
            "Date: 5 Apr 1993 20:55:17 GMT\n",
            "Organization: St. Elizabeth Hospital, Youngstown, OH\n",
            "Lines: 9\n",
            "Message-ID: <1pq6bl$9rj@news.ysu.edu>\n",
            "Reply-To: ak296@yfn.ysu.edu (John R. Daker)\n",
            "NNTP-Posting-Host: yfn.ysu.edu\n",
            "\n",
            "\n",
            "Has anybody noticed that Toyota has an uncanny knack for designing horrible\n",
            "ugly station wagons?  Tercels, Corollas, Camrys.  Have their designers no\n",
            "aesthetic sense at all?\n",
            "-- \n",
            "DoD #650<----------------------------------------------------------->DarkMan\n",
            "   The significant problems we face cannot be solved at the same level of\n",
            "      thinking we were at when we created them.   - Albert Einstein\n",
            "         ___________________The Eternal Champion_________________\n",
            " \n",
            "\n",
            "Path: cantaloupe.srv.cs.cmu.edu!rochester!cornell!batcomputer!caen!zaphod.mps.ohio-state.edu!wupost!udel!gatech!usenet.ins.cwru.edu!news.ysu.edu!yfn.ysu.edu!ak296\n",
            "From: ak296@yfn.ysu.edu (John R. Daker)\n",
            "Newsgroups: rec.autos\n",
            "Subject: Re: Dumbest automotive concepts of all time\n",
            "Date: 5 Apr 1993 20:58:42 GMT\n",
            "Organization: St. Elizabeth Hospital, Youngstown, OH\n",
            "Lines: 13\n",
            "Message-ID: <1pq6i2$a1f@news.ysu.edu>\n",
            "References: <1993Apr5.184756.2588@gdwest.gd.com>\n",
            "Reply-To: ak296@yfn.ysu.edu (John R. Daker)\n",
            "NNTP-Posting-Host: yfn.ysu.edu\n",
            "\n",
            "\n",
            "Cup holders (driving is an importantant enough undertaking)\n",
            "Cellular phones and mobile fax machines (see above)\n",
            "Vanity mirrors on the driver's side.\n",
            "Ashtrays (smokers seem to think it's just fine to use the road)\n",
            "Fake convertible roofs and vinyl roofs.\n",
            "Any gold trim.\n",
            "\n",
            "-- \n",
            "DoD #650<----------------------------------------------------------->DarkMan\n",
            "   The significant problems we face cannot be solved at the same level of\n",
            "      thinking we were at when we created them.   - Albert Einstein\n",
            "         ___________________The Eternal Champion_________________\n",
            " \n",
            "\n",
            "Newsgroups: rec.autos\n",
            "Path: cantaloupe.srv.cs.cmu.edu!rochester!udel!darwin.sura.net!haven.umd.edu!purdue!mentor.cc.purdue.edu!noose.ecn.purdue.edu!rainbow.ecn.purdue.edu!rjwade\n",
            "From: rjwade@rainbow.ecn.purdue.edu (Robert J. Wade)\n",
            "Subject: Re: Most bang for between $13,000 and $16,000\n",
            "Message-ID: <C52H6K.GwM@noose.ecn.purdue.edu>\n",
            "Sender: news@noose.ecn.purdue.edu (USENET news)\n",
            "Organization: Purdue University Engineering Computer Network\n",
            "References: <16BA7C8B0.CPKJP@vm.cc.latech.edu> <33759@oasys.dt.navy.mil>\n",
            "Distribution: na\n",
            "Date: Tue, 6 Apr 1993 14:49:32 GMT\n",
            "Lines: 18\n",
            "\n",
            "In article <33759@oasys.dt.navy.mil> tobias@oasys.dt.navy.mil (Steve Tobias) writes:\n",
            ">In rec.autos, CPKJP@vm.cc.latech.edu (Kevin Parker) writes:\n",
            ">>   I'd like to get some feedback on a car with most bang for the buck in the\n",
            ">>$13000 to 16,000 price range. I'm looking for a car with enough civility to be\n",
            ">>driven every day, or even on long trips, but when I hit the gas, I want to feel\n",
            ">>some acceleration.  Handling is important also, as are reliability and pretty\n",
            ">>low maintenance costs.  A stylish appearance is nice, but I don't want a car\n",
            ">>that is all show and not much go.  Even though many of the imports are fast, I\n",
            ">>don't really want a turbo, and I never have cared for the song sung by a four\n",
            ">>clyinder.  I'd prefer a v6 or v8 for the engine.  If you have any suggestions,\n",
            ">>Kevin Parker\n",
            ">\n",
            ">     There's only one car that really fits your needs. It's spelled:\n",
            ">\n",
            ">\t\t\t  5.0 LITER MUSTANG\n",
            "\n",
            "\n",
            "not!  sorry, he said cvility, long trips, reliability, and low maintenance cost!\n",
            " \n",
            "\n",
            "They seem to be around in April of the same year, some have a heading of the eternal champion, both from the news group rec.autos\n",
            "Between-cluster distance: 8.30\n",
            "Within-cluster dispersion: 0.38\n",
            "The clusters are reasonably well-separated, and within clusters seem to bunched up too.\n"
          ]
        }
      ]
    },
    {
      "cell_type": "markdown",
      "source": [
        "#Question 6"
      ],
      "metadata": {
        "id": "MfouRlWyl89X"
      }
    },
    {
      "cell_type": "code",
      "source": [
        "from nltk.stem.porter import PorterStemmer\n",
        "from nltk.util import ngrams\n",
        "from collections import Counter\n",
        "\n",
        "# A) Load the electronics-related posts\n",
        "corpus = []\n",
        "with ZipFile(dmba.get_data_file('AutoAndElectronics.zip')) as rawData:\n",
        "    for info in rawData.infolist():\n",
        "        if info.is_dir() or 'sci.electronics' not in info.filename:\n",
        "            continue\n",
        "        try:\n",
        "            corpus.append(rawData.read(info).decode('utf-8'))\n",
        "        except UnicodeDecodeError:\n",
        "            corpus.append(rawData.read(info).decode('latin-1'))\n",
        "\n",
        "# B) Preprocess the text data\n",
        "stop_words = set(stopwords.words('english'))\n",
        "stemmer = PorterStemmer()\n",
        "\n",
        "tokens = [[stemmer.stem(word) for word in word_tokenize(doc) if word.isalpha() and word not in stop_words] for doc in corpus]\n",
        "\n",
        "# C) Identify the 10 most frequent trigrams\n",
        "all_trigrams = [tuple(tokens[i][j:j+3]) for i in range(len(tokens)) for j in range(len(tokens[i])-2)]\n",
        "trigram_counts = Counter(all_trigrams)\n",
        "top_trigrams = trigram_counts.most_common(10)\n",
        "\n",
        "print('Top 10 frequent trigrams in electronics posts:')\n",
        "for trigram, count in top_trigrams:\n",
        "    print(f'{\" \".join(trigram)}: {count}')\n",
        "\n",
        "# D) Analyze the frequent trigrams\n",
        "# The most frequent ones are talking about annual reports and also probably talking about either due dates or referring to a specific one\n",
        "# Others are talking about meeting up to discuss the annual reports in the beginning of the week\n",
        "# Lastly some are just talking about specific things in an article or report and one is asking to meet about it"
      ],
      "metadata": {
        "id": "-TOaBKl7l-nR",
        "outputId": "490b2d8f-e8a2-4528-e032-f9fd5583a6c9",
        "colab": {
          "base_uri": "https://localhost:8080/"
        }
      },
      "execution_count": 65,
      "outputs": [
        {
          "output_type": "stream",
          "name": "stdout",
          "text": [
            "Top 10 frequent trigrams in electronics posts:\n",
            "apr gmt line: 425\n",
            "date apr gmt: 316\n",
            "newsgroup subject re: 289\n",
            "line in articl: 249\n",
            "path rochest udel: 185\n",
            "apr gmt organ: 168\n",
            "apr gmt refer: 144\n",
            "gmt line in: 136\n",
            "date mon apr: 130\n",
            "date tue apr: 130\n"
          ]
        }
      ]
    }
  ]
}