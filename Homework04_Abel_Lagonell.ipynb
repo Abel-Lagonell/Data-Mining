{
  "nbformat": 4,
  "nbformat_minor": 0,
  "metadata": {
    "colab": {
      "provenance": [],
      "authorship_tag": "ABX9TyNPVAONDR6MnMbh2zhErqHx",
      "include_colab_link": true
    },
    "kernelspec": {
      "name": "python3",
      "display_name": "Python 3"
    },
    "language_info": {
      "name": "python"
    }
  },
  "cells": [
    {
      "cell_type": "markdown",
      "metadata": {
        "id": "view-in-github",
        "colab_type": "text"
      },
      "source": [
        "<a href=\"https://colab.research.google.com/github/Abel-Lagonell/Data-Mining/blob/main/Homework04_Abel_Lagonell.ipynb\" target=\"_parent\"><img src=\"https://colab.research.google.com/assets/colab-badge.svg\" alt=\"Open In Colab\"/></a>"
      ]
    },
    {
      "cell_type": "code",
      "source": [
        "import dmba\n",
        "from dmba import printTermDocumentMatrix\n",
        "\n",
        "import sklearn.feature_extraction.text as text\n",
        "from sklearn.feature_extraction._stop_words import ENGLISH_STOP_WORDS\n",
        "\n",
        "import numpy as np\n",
        "import pandas as pd\n",
        "import matplotlib.pyplot as plt\n",
        "import seaborn as sns\n",
        "\n",
        "import nltk\n",
        "from nltk import word_tokenize\n",
        "from nltk.stem.snowball import EnglishStemmer\n",
        "from nltk.sentiment import SentimentIntensityAnalyzer\n",
        "nltk.download('punkt')\n",
        "nltk.download('averaged_perceptron_tagger')\n",
        "nltk.download('vader_lexicon')"
      ],
      "metadata": {
        "colab": {
          "base_uri": "https://localhost:8080/"
        },
        "id": "mbim4HThbOaM",
        "outputId": "48e4826a-d93d-4c8c-9cca-0b31b4486c7e"
      },
      "execution_count": 65,
      "outputs": [
        {
          "output_type": "stream",
          "name": "stderr",
          "text": [
            "[nltk_data] Downloading package punkt to /root/nltk_data...\n",
            "[nltk_data]   Package punkt is already up-to-date!\n",
            "[nltk_data] Downloading package averaged_perceptron_tagger to\n",
            "[nltk_data]     /root/nltk_data...\n",
            "[nltk_data]   Package averaged_perceptron_tagger is already up-to-\n",
            "[nltk_data]       date!\n",
            "[nltk_data] Downloading package vader_lexicon to /root/nltk_data...\n"
          ]
        },
        {
          "output_type": "execute_result",
          "data": {
            "text/plain": [
              "True"
            ]
          },
          "metadata": {},
          "execution_count": 65
        }
      ]
    },
    {
      "cell_type": "markdown",
      "source": [
        "# Question 1"
      ],
      "metadata": {
        "id": "dSAvYzblYlpt"
      }
    },
    {
      "cell_type": "code",
      "source": [
        "def plot_word_freq(vector, count, width=10):\n",
        "    plt.figure(figsize=(width, 2))\n",
        "    plt.bar(vector.get_feature_names_out(), np.ravel(count.sum(axis=0)))\n",
        "    plt.show()\n",
        "\n",
        "sample_text = \"The laptop was difficult to set up, and difficult to connect to the WIFI. I would go back to using the previous laptop except it no longer charges.\"\n",
        "\n",
        "#A\n",
        "word_tokens = nltk.word_tokenize(sample_text)\n",
        "for i, word in enumerate(word_tokens):\n",
        "    if i%10 == 9: print('\\n')\n",
        "    print(word, end=', ')\n",
        "print('-------------------------------------\\n')\n",
        "#B: Determine and plot the word frequency for the sample text.\n",
        "count_vector = text.CountVectorizer()\n",
        "count = count_vector.fit_transform([sample_text])\n",
        "plot_word_freq(count_vector, count, width=15)\n",
        "print('-------------------------------------\\n')\n",
        "#C\n",
        "count_vector = text.CountVectorizer(stop_words='english')\n",
        "count = count_vector.fit_transform([sample_text])\n",
        "plot_word_freq(count_vector, count, width=7)\n",
        "print('-------------------------------------\\n')\n",
        "#D\n",
        "class LemmaTokenizer(object):\n",
        "    def __init__(self):\n",
        "        self.stemmer = EnglishStemmer()\n",
        "        self.stopWords = ENGLISH_STOP_WORDS\n",
        "        self.nouns = ['NN', 'NNS', 'NNP', 'NNPS']\n",
        "\n",
        "    def __call__(self, doc):\n",
        "        return [self.stemmer.stem(t) for t in word_tokenize(doc)\n",
        "                if t.isalpha() and t not in self.stopWords and nltk.pos_tag([t])[0][1] in self.nouns]\n",
        "\n",
        "count_vector = text.CountVectorizer(tokenizer=LemmaTokenizer())\n",
        "count = count_vector.fit_transform([sample_text])\n",
        "plot_word_freq(count_vector, count, width=5)\n",
        "print('-------------------------------------\\n')\n",
        "#E\n",
        "sentiment = SentimentIntensityAnalyzer()\n",
        "print(sentiment.polarity_scores(sample_text))"
      ],
      "metadata": {
        "colab": {
          "base_uri": "https://localhost:8080/",
          "height": 868
        },
        "id": "lIv0jHh2ZoW1",
        "outputId": "3f49a15c-db23-4d78-a0c5-8a9e4f55145f"
      },
      "execution_count": 66,
      "outputs": [
        {
          "output_type": "stream",
          "name": "stdout",
          "text": [
            "The, laptop, was, difficult, to, set, up, ,, and, \n",
            "\n",
            "difficult, to, connect, to, the, WIFI, ., I, would, go, \n",
            "\n",
            "back, to, using, the, previous, laptop, except, it, no, longer, \n",
            "\n",
            "charges, ., -------------------------------------\n",
            "\n"
          ]
        },
        {
          "output_type": "display_data",
          "data": {
            "text/plain": [
              "<Figure size 1500x200 with 1 Axes>"
            ],
            "image/png": "[encoded data removed]"
          },
          "metadata": {}
        },
        {
          "output_type": "stream",
          "name": "stdout",
          "text": [
            "-------------------------------------\n",
            "\n"
          ]
        },
        {
          "output_type": "display_data",
          "data": {
            "text/plain": [
              "<Figure size 700x200 with 1 Axes>"
            ],
            "image/png": "[encoded data removed]"
          },
          "metadata": {}
        },
        {
          "output_type": "stream",
          "name": "stdout",
          "text": [
            "-------------------------------------\n",
            "\n"
          ]
        },
        {
          "output_type": "display_data",
          "data": {
            "text/plain": [
              "<Figure size 500x200 with 1 Axes>"
            ],
            "image/png": "[encoded data removed]"
          },
          "metadata": {}
        },
        {
          "output_type": "stream",
          "name": "stdout",
          "text": [
            "-------------------------------------\n",
            "\n",
            "{'neg': 0.288, 'neu': 0.712, 'pos': 0.0, 'compound': -0.8074}\n"
          ]
        }
      ]
    },
    {
      "cell_type": "markdown",
      "source": [
        "# Question 2"
      ],
      "metadata": {
        "id": "-x1b9MAJmy1I"
      }
    },
    {
      "cell_type": "code",
      "source": [
        "sample_text = r\"\"\"Thanks John!<br /><br /><font size=”3”>\n",
        "&quot;Illustrations and demos will be\n",
        "provided for students to work through on\n",
        "their own&quot;</font>.\n",
        "Do we need that to finish project? If yes,\n",
        "where to find the illustration and demos?\n",
        "Thanks for your help.\\<img title=”smile”\n",
        "alt=”smile” src=”\\url{http://lms.statistics.com/pix/smartpix.php/statistics_com_1/s/smiley.gif}” \\>\n",
        "<br /> <br />\n",
        "\"\"\"\n",
        "\n",
        "# A\n",
        "tokens = word_tokenize(sample_text)\n",
        "non_words = [word for word in tokens if not word.isalpha()]\n",
        "for i, word in enumerate(non_words):\n",
        "    if i%11 == 10: print('\\n')\n",
        "    print(word, end='  ')\n",
        "print('-------------------------------------\\n')\n",
        "# B\n",
        "# We can remove all html tokens such as <, >, alt=, we can also remove anything between angle brackets\n",
        "# C\n",
        "# Words that we want are Demos, provided, project, help, illustration, find\n",
        "# D\n",
        "# Bag of words just get the different words and lose the bigger picture meaning of the actual text."
      ],
      "metadata": {
        "colab": {
          "base_uri": "https://localhost:8080/"
        },
        "id": "rBRnOp_pm3FW",
        "outputId": "25e51584-6e36-48b3-f2bd-3a1b2a00ec4c"
      },
      "execution_count": 82,
      "outputs": [
        {
          "output_type": "stream",
          "name": "stdout",
          "text": [
            "!  <  /  >  <  /  >  <  size=  ”  \n",
            "\n",
            "3  ”  >  &  ;  &  ;  <  /font  >  .  \n",
            "\n",
            "?  ,  ?  help.\\  <  title=  ”  ”  alt=  ”  ”  \n",
            "\n",
            "src=  ”  \\url  {  :  //lms.statistics.com/pix/smartpix.php/statistics_com_1/s/smiley.gif  }  ”  \\  >  <  \n",
            "\n",
            "/  >  <  /  >  "
          ]
        }
      ]
    }
  ]
}